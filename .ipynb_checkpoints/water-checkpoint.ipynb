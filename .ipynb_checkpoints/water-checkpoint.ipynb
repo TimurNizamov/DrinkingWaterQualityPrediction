{
 "cells": [
  {
   "cell_type": "markdown",
   "id": "45b21546",
   "metadata": {},
   "source": [
    "<h1>Create dataset from 17 xmls files Veevärkide veeproovid </h1>"
   ]
  },
  {
   "cell_type": "markdown",
   "id": "2f6eb2bd",
   "metadata": {},
   "source": [
    "<p>Create a single csv file from 17 xml datasets (<a href='https://vtiav.sm.ee/?active_tab_id=A'>link to data sets</a> ).\n",
    "    \n",
    "Goals:\n",
    "* extract compilance results which are not going to be used in kaggle competition.\n",
    "* extract the place of station or location of district\n",
    "* extract time of the test\n",
    "* if compilance was negative also extract the problem name\n",
    "* add year to every entry based on files year\n",
    "\n",
    "\n",
    "</p>"
   ]
  },
  {
   "cell_type": "code",
   "execution_count": 40,
   "id": "b2af534d",
   "metadata": {},
   "outputs": [],
   "source": [
    "import pandas as pd\n",
    "import xmltodict"
   ]
  },
  {
   "cell_type": "code",
   "execution_count": 42,
   "id": "85d1f6c8",
   "metadata": {},
   "outputs": [
    {
     "data": {
      "text/plain": [
       "{'id': '264110',\n",
       " 'veevark_id': '336',\n",
       " 'veevark': 'Pirita piirkond',\n",
       " 'proovi_liik': None,\n",
       " 'veeliik': 'Joogivesi',\n",
       " 'proovivotu_aeg': '30.12.2021 00:00',\n",
       " 'proovivotja_nimi': None,\n",
       " 'proovivotja_amet': None,\n",
       " 'proovivotu_eesmark': 'Enesekontroll',\n",
       " 'proovivotu_metoodika': None,\n",
       " 'proovivotuprotokolli_number': None,\n",
       " 'proovivotukoht': {'id': '878', 'nimetus': 'Pirita Selver'},\n",
       " 'katseprotokollid': {'katseprotokoll': {'kaaskirja_number': None,\n",
       "   'katseprotokolli_number': 'LV211230-01',\n",
       "   'hinnang': 'vastab nõuetele',\n",
       "   'naitajad': {'naitaja': [{'id': '112',\n",
       "      'nimetus': 'Lõhn (lahjendusaste)',\n",
       "      'sisaldus': '1',\n",
       "      'yhik': 'lahjendusaste',\n",
       "      'hinnang': 'vastab nõuetele'},\n",
       "     {'id': '737',\n",
       "      'nimetus': 'Escherichia coli (Colilert)',\n",
       "      'sisaldus': '0',\n",
       "      'yhik': 'MPN/100 ml',\n",
       "      'hinnang': 'vastab nõuetele'},\n",
       "     {'id': '736',\n",
       "      'nimetus': 'Coli-laadsed bakterid (Colilert)',\n",
       "      'sisaldus': '0',\n",
       "      'yhik': 'MPN/100 ml',\n",
       "      'hinnang': 'vastab nõuetele'},\n",
       "     {'id': '1',\n",
       "      'nimetus': 'Raud',\n",
       "      'sisaldus': '34',\n",
       "      'yhik': 'µg/l',\n",
       "      'hinnang': 'vastab nõuetele'},\n",
       "     {'id': '131',\n",
       "      'nimetus': 'Värvus (Pt/Co skaala)',\n",
       "      'sisaldus': '3',\n",
       "      'yhik': 'mg/l Pt',\n",
       "      'hinnang': 'vastab nõuetele'},\n",
       "     {'id': '56',\n",
       "      'nimetus': 'Hägusus (NTU)',\n",
       "      'sisaldus': '0,1',\n",
       "      'yhik': 'NTU',\n",
       "      'hinnang': 'vastab nõuetele'},\n",
       "     {'id': '241',\n",
       "      'nimetus': 'Maitse (lahjendusaste)',\n",
       "      'sisaldus': '1',\n",
       "      'yhik': 'lahjendusaste',\n",
       "      'hinnang': 'vastab nõuetele'}]}}}}"
      ]
     },
     "execution_count": 42,
     "metadata": {},
     "output_type": "execute_result"
    }
   ],
   "source": [
    "with open('2021.xml', mode='rb') as f:\n",
    "    proovid_2021 = xmltodict.parse(f)['veevargi_veeproovid']['proovivott']\n",
    "#     for proov in proovid_2021:\n",
    "#         print(proov)\n",
    "proovid_2021[1]"
   ]
  },
  {
   "cell_type": "code",
   "execution_count": 38,
   "id": "1bedc7a8",
   "metadata": {},
   "outputs": [
    {
     "data": {
      "text/plain": [
       "{'id': '264110',\n",
       " 'veevark_id': '336',\n",
       " 'veevark': 'Pirita piirkond',\n",
       " 'proovi_liik': None,\n",
       " 'veeliik': 'Joogivesi',\n",
       " 'proovivotu_aeg': '30.12.2021 00:00',\n",
       " 'proovivotja_nimi': None,\n",
       " 'proovivotja_amet': None,\n",
       " 'proovivotu_eesmark': 'Enesekontroll',\n",
       " 'proovivotu_metoodika': None,\n",
       " 'proovivotuprotokolli_number': None,\n",
       " 'proovivotukoht': {'id': '878', 'nimetus': 'Pirita Selver'},\n",
       " 'katseprotokollid': {'katseprotokoll': {'kaaskirja_number': None,\n",
       "   'katseprotokolli_number': 'LV211230-01',\n",
       "   'hinnang': 'vastab nõuetele',\n",
       "   'naitajad': {'naitaja': [{'id': '112',\n",
       "      'nimetus': 'Lõhn (lahjendusaste)',\n",
       "      'sisaldus': '1',\n",
       "      'yhik': 'lahjendusaste',\n",
       "      'hinnang': 'vastab nõuetele'},\n",
       "     {'id': '737',\n",
       "      'nimetus': 'Escherichia coli (Colilert)',\n",
       "      'sisaldus': '0',\n",
       "      'yhik': 'MPN/100 ml',\n",
       "      'hinnang': 'vastab nõuetele'},\n",
       "     {'id': '736',\n",
       "      'nimetus': 'Coli-laadsed bakterid (Colilert)',\n",
       "      'sisaldus': '0',\n",
       "      'yhik': 'MPN/100 ml',\n",
       "      'hinnang': 'vastab nõuetele'},\n",
       "     {'id': '1',\n",
       "      'nimetus': 'Raud',\n",
       "      'sisaldus': '34',\n",
       "      'yhik': 'µg/l',\n",
       "      'hinnang': 'vastab nõuetele'},\n",
       "     {'id': '131',\n",
       "      'nimetus': 'Värvus (Pt/Co skaala)',\n",
       "      'sisaldus': '3',\n",
       "      'yhik': 'mg/l Pt',\n",
       "      'hinnang': 'vastab nõuetele'},\n",
       "     {'id': '56',\n",
       "      'nimetus': 'Hägusus (NTU)',\n",
       "      'sisaldus': '0,1',\n",
       "      'yhik': 'NTU',\n",
       "      'hinnang': 'vastab nõuetele'},\n",
       "     {'id': '241',\n",
       "      'nimetus': 'Maitse (lahjendusaste)',\n",
       "      'sisaldus': '1',\n",
       "      'yhik': 'lahjendusaste',\n",
       "      'hinnang': 'vastab nõuetele'}]}}}}"
      ]
     },
     "execution_count": 38,
     "metadata": {},
     "output_type": "execute_result"
    }
   ],
   "source": [
    "proovid_2021[1]"
   ]
  },
  {
   "cell_type": "code",
   "execution_count": 23,
   "id": "631c4f86",
   "metadata": {},
   "outputs": [
    {
     "data": {
      "text/html": [
       "<div>\n",
       "<style scoped>\n",
       "    .dataframe tbody tr th:only-of-type {\n",
       "        vertical-align: middle;\n",
       "    }\n",
       "\n",
       "    .dataframe tbody tr th {\n",
       "        vertical-align: top;\n",
       "    }\n",
       "\n",
       "    .dataframe thead th {\n",
       "        text-align: right;\n",
       "    }\n",
       "</style>\n",
       "<table border=\"1\" class=\"dataframe\">\n",
       "  <thead>\n",
       "    <tr style=\"text-align: right;\">\n",
       "      <th></th>\n",
       "      <th>Unnamed: 0</th>\n",
       "      <th>id</th>\n",
       "      <th>veevark_id</th>\n",
       "      <th>veevark</th>\n",
       "      <th>proovi_liik</th>\n",
       "      <th>veeliik</th>\n",
       "      <th>proovivotu_aeg</th>\n",
       "      <th>proovivotja_nimi</th>\n",
       "      <th>proovivotja_amet</th>\n",
       "      <th>proovivotu_eesmark</th>\n",
       "      <th>proovivotu_metoodika</th>\n",
       "      <th>proovivotuprotokolli_number</th>\n",
       "      <th>proovivotukoht</th>\n",
       "      <th>katseprotokollid</th>\n",
       "      <th>proovivotja_atesteerimistunnistuse_number</th>\n",
       "    </tr>\n",
       "  </thead>\n",
       "  <tbody>\n",
       "    <tr>\n",
       "      <th>0</th>\n",
       "      <td>0</td>\n",
       "      <td>264493</td>\n",
       "      <td>306</td>\n",
       "      <td>Tallinna pinnavee piirkond ja Harku</td>\n",
       "      <td>NaN</td>\n",
       "      <td>Joogivesi</td>\n",
       "      <td>31.12.2021 00:00</td>\n",
       "      <td>NaN</td>\n",
       "      <td>NaN</td>\n",
       "      <td>Enesekontroll</td>\n",
       "      <td>NaN</td>\n",
       "      <td>NaN</td>\n",
       "      <td>NaN</td>\n",
       "      <td>NaN</td>\n",
       "      <td>NaN</td>\n",
       "    </tr>\n",
       "    <tr>\n",
       "      <th>1</th>\n",
       "      <td>1</td>\n",
       "      <td>264110</td>\n",
       "      <td>336</td>\n",
       "      <td>Pirita piirkond</td>\n",
       "      <td>NaN</td>\n",
       "      <td>Joogivesi</td>\n",
       "      <td>30.12.2021 00:00</td>\n",
       "      <td>NaN</td>\n",
       "      <td>NaN</td>\n",
       "      <td>Enesekontroll</td>\n",
       "      <td>NaN</td>\n",
       "      <td>NaN</td>\n",
       "      <td>NaN</td>\n",
       "      <td>NaN</td>\n",
       "      <td>NaN</td>\n",
       "    </tr>\n",
       "    <tr>\n",
       "      <th>2</th>\n",
       "      <td>2</td>\n",
       "      <td>264111</td>\n",
       "      <td>336</td>\n",
       "      <td>Pirita piirkond</td>\n",
       "      <td>NaN</td>\n",
       "      <td>Joogivesi</td>\n",
       "      <td>30.12.2021 00:00</td>\n",
       "      <td>NaN</td>\n",
       "      <td>NaN</td>\n",
       "      <td>Enesekontroll</td>\n",
       "      <td>NaN</td>\n",
       "      <td>NaN</td>\n",
       "      <td>NaN</td>\n",
       "      <td>NaN</td>\n",
       "      <td>NaN</td>\n",
       "    </tr>\n",
       "    <tr>\n",
       "      <th>3</th>\n",
       "      <td>3</td>\n",
       "      <td>264113</td>\n",
       "      <td>336</td>\n",
       "      <td>Pirita piirkond</td>\n",
       "      <td>NaN</td>\n",
       "      <td>Joogivesi</td>\n",
       "      <td>30.12.2021 00:00</td>\n",
       "      <td>NaN</td>\n",
       "      <td>NaN</td>\n",
       "      <td>Enesekontroll</td>\n",
       "      <td>NaN</td>\n",
       "      <td>NaN</td>\n",
       "      <td>NaN</td>\n",
       "      <td>NaN</td>\n",
       "      <td>NaN</td>\n",
       "    </tr>\n",
       "    <tr>\n",
       "      <th>4</th>\n",
       "      <td>4</td>\n",
       "      <td>264115</td>\n",
       "      <td>336</td>\n",
       "      <td>Pirita piirkond</td>\n",
       "      <td>NaN</td>\n",
       "      <td>Joogivesi</td>\n",
       "      <td>30.12.2021 00:00</td>\n",
       "      <td>NaN</td>\n",
       "      <td>NaN</td>\n",
       "      <td>Enesekontroll</td>\n",
       "      <td>NaN</td>\n",
       "      <td>NaN</td>\n",
       "      <td>NaN</td>\n",
       "      <td>NaN</td>\n",
       "      <td>NaN</td>\n",
       "    </tr>\n",
       "  </tbody>\n",
       "</table>\n",
       "</div>"
      ],
      "text/plain": [
       "   Unnamed: 0      id  veevark_id                              veevark  \\\n",
       "0           0  264493         306  Tallinna pinnavee piirkond ja Harku   \n",
       "1           1  264110         336                      Pirita piirkond   \n",
       "2           2  264111         336                      Pirita piirkond   \n",
       "3           3  264113         336                      Pirita piirkond   \n",
       "4           4  264115         336                      Pirita piirkond   \n",
       "\n",
       "   proovi_liik    veeliik    proovivotu_aeg proovivotja_nimi proovivotja_amet  \\\n",
       "0          NaN  Joogivesi  31.12.2021 00:00              NaN              NaN   \n",
       "1          NaN  Joogivesi  30.12.2021 00:00              NaN              NaN   \n",
       "2          NaN  Joogivesi  30.12.2021 00:00              NaN              NaN   \n",
       "3          NaN  Joogivesi  30.12.2021 00:00              NaN              NaN   \n",
       "4          NaN  Joogivesi  30.12.2021 00:00              NaN              NaN   \n",
       "\n",
       "  proovivotu_eesmark proovivotu_metoodika proovivotuprotokolli_number  \\\n",
       "0      Enesekontroll                  NaN                         NaN   \n",
       "1      Enesekontroll                  NaN                         NaN   \n",
       "2      Enesekontroll                  NaN                         NaN   \n",
       "3      Enesekontroll                  NaN                         NaN   \n",
       "4      Enesekontroll                  NaN                         NaN   \n",
       "\n",
       "   proovivotukoht  katseprotokollid proovivotja_atesteerimistunnistuse_number  \n",
       "0             NaN               NaN                                       NaN  \n",
       "1             NaN               NaN                                       NaN  \n",
       "2             NaN               NaN                                       NaN  \n",
       "3             NaN               NaN                                       NaN  \n",
       "4             NaN               NaN                                       NaN  "
      ]
     },
     "execution_count": 23,
     "metadata": {},
     "output_type": "execute_result"
    }
   ],
   "source": [
    "data.head()"
   ]
  },
  {
   "cell_type": "code",
   "execution_count": 4,
   "id": "d0313dbe",
   "metadata": {},
   "outputs": [
    {
     "data": {
      "text/plain": [
       "(7119, 14)"
      ]
     },
     "execution_count": 4,
     "metadata": {},
     "output_type": "execute_result"
    }
   ],
   "source": [
    "data.shape"
   ]
  },
  {
   "cell_type": "code",
   "execution_count": 7,
   "id": "9f3c2c3c",
   "metadata": {},
   "outputs": [
    {
     "data": {
      "text/plain": [
       "0      NaN\n",
       "1      NaN\n",
       "2      NaN\n",
       "3      NaN\n",
       "4      NaN\n",
       "        ..\n",
       "7114   NaN\n",
       "7115   NaN\n",
       "7116   NaN\n",
       "7117   NaN\n",
       "7118   NaN\n",
       "Name: katseprotokollid, Length: 7119, dtype: float64"
      ]
     },
     "execution_count": 7,
     "metadata": {},
     "output_type": "execute_result"
    }
   ],
   "source": [
    "data['katseprotokollid']"
   ]
  },
  {
   "cell_type": "code",
   "execution_count": 6,
   "id": "4d4e1922",
   "metadata": {},
   "outputs": [
    {
     "data": {
      "text/plain": [
       "id                                              0\n",
       "veevark_id                                      0\n",
       "veevark                                         0\n",
       "proovi_liik                                  7119\n",
       "veeliik                                         1\n",
       "proovivotu_aeg                                  0\n",
       "proovivotja_nimi                             3370\n",
       "proovivotja_amet                             6827\n",
       "proovivotu_eesmark                              1\n",
       "proovivotu_metoodika                         6059\n",
       "proovivotuprotokolli_number                  6437\n",
       "proovivotukoht                               7119\n",
       "katseprotokollid                             7119\n",
       "proovivotja_atesteerimistunnistuse_number    4994\n",
       "dtype: int64"
      ]
     },
     "execution_count": 6,
     "metadata": {},
     "output_type": "execute_result"
    }
   ],
   "source": [
    "data.isnull().sum()"
   ]
  },
  {
   "cell_type": "code",
   "execution_count": null,
   "id": "5be5f723",
   "metadata": {},
   "outputs": [],
   "source": []
  }
 ],
 "metadata": {
  "kernelspec": {
   "display_name": "Python 3 (ipykernel)",
   "language": "python",
   "name": "python3"
  },
  "language_info": {
   "codemirror_mode": {
    "name": "ipython",
    "version": 3
   },
   "file_extension": ".py",
   "mimetype": "text/x-python",
   "name": "python",
   "nbconvert_exporter": "python",
   "pygments_lexer": "ipython3",
   "version": "3.8.13"
  }
 },
 "nbformat": 4,
 "nbformat_minor": 5
}
