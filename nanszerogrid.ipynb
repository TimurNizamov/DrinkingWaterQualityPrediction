{
 "cells": [
  {
   "cell_type": "code",
   "execution_count": 1,
   "metadata": {
    "id": "Z3AjTB-FBfOC"
   },
   "outputs": [],
   "source": [
    "import pandas as pd\n",
    "import numpy as np\n",
    "import matplotlib.pyplot as plt\n",
    "from sklearn.model_selection import train_test_split\n",
    "from sklearn.model_selection import GridSearchCV\n",
    "from sklearn.linear_model import LogisticRegression\n",
    "from sklearn.metrics import accuracy_score\n",
    "from sklearn.metrics import confusion_matrix\n",
    "from sklearn.preprocessing import StandardScaler\n",
    "from sklearn.impute import SimpleImputer\n",
    "from sklearn.ensemble import RandomForestClassifier\n",
    "from sklearn.neighbors import KNeighborsClassifier"
   ]
  },
  {
   "cell_type": "code",
   "execution_count": 2,
   "metadata": {
    "id": "CUHhNoUlLO9k"
   },
   "outputs": [],
   "source": [
    "test = pd.read_csv('test.csv')"
   ]
  },
  {
   "cell_type": "code",
   "execution_count": 3,
   "metadata": {
    "id": "JLp8NYGdE6UJ"
   },
   "outputs": [
    {
     "data": {
      "text/html": [
       "<div>\n",
       "<style scoped>\n",
       "    .dataframe tbody tr th:only-of-type {\n",
       "        vertical-align: middle;\n",
       "    }\n",
       "\n",
       "    .dataframe tbody tr th {\n",
       "        vertical-align: top;\n",
       "    }\n",
       "\n",
       "    .dataframe thead th {\n",
       "        text-align: right;\n",
       "    }\n",
       "</style>\n",
       "<table border=\"1\" class=\"dataframe\">\n",
       "  <thead>\n",
       "    <tr style=\"text-align: right;\">\n",
       "      <th></th>\n",
       "      <th>station_id</th>\n",
       "      <th>Aluminium_2019</th>\n",
       "      <th>Aluminium_2020</th>\n",
       "      <th>Ammonium_2019</th>\n",
       "      <th>Ammonium_2020</th>\n",
       "      <th>Boron_2019</th>\n",
       "      <th>Boron_2020</th>\n",
       "      <th>Chloride_2019</th>\n",
       "      <th>Chloride_2020</th>\n",
       "      <th>Coli-like-bacteria-Colilert_2019</th>\n",
       "      <th>...</th>\n",
       "      <th>Taste-ball-units_2020</th>\n",
       "      <th>Taste-dilution-degree_2019</th>\n",
       "      <th>Taste-dilution-degree_2020</th>\n",
       "      <th>Turbidity-NTU_2019</th>\n",
       "      <th>Turbidity-NTU_2020</th>\n",
       "      <th>pH _2019</th>\n",
       "      <th>pH _2020</th>\n",
       "      <th>compliance_2019</th>\n",
       "      <th>compliance_2020</th>\n",
       "      <th>compliance_2021</th>\n",
       "    </tr>\n",
       "  </thead>\n",
       "  <tbody>\n",
       "    <tr>\n",
       "      <th>0</th>\n",
       "      <td>487</td>\n",
       "      <td>NaN</td>\n",
       "      <td>NaN</td>\n",
       "      <td>0.05</td>\n",
       "      <td>0.05</td>\n",
       "      <td>NaN</td>\n",
       "      <td>NaN</td>\n",
       "      <td>NaN</td>\n",
       "      <td>NaN</td>\n",
       "      <td>NaN</td>\n",
       "      <td>...</td>\n",
       "      <td>0.0</td>\n",
       "      <td>NaN</td>\n",
       "      <td>NaN</td>\n",
       "      <td>1.60</td>\n",
       "      <td>0.2</td>\n",
       "      <td>7.80</td>\n",
       "      <td>7.60</td>\n",
       "      <td>0</td>\n",
       "      <td>0</td>\n",
       "      <td>0</td>\n",
       "    </tr>\n",
       "    <tr>\n",
       "      <th>1</th>\n",
       "      <td>1555</td>\n",
       "      <td>NaN</td>\n",
       "      <td>NaN</td>\n",
       "      <td>0.05</td>\n",
       "      <td>0.05</td>\n",
       "      <td>NaN</td>\n",
       "      <td>NaN</td>\n",
       "      <td>NaN</td>\n",
       "      <td>NaN</td>\n",
       "      <td>NaN</td>\n",
       "      <td>...</td>\n",
       "      <td>NaN</td>\n",
       "      <td>1.0</td>\n",
       "      <td>1.0</td>\n",
       "      <td>1.00</td>\n",
       "      <td>1.0</td>\n",
       "      <td>7.30</td>\n",
       "      <td>7.10</td>\n",
       "      <td>0</td>\n",
       "      <td>0</td>\n",
       "      <td>0</td>\n",
       "    </tr>\n",
       "    <tr>\n",
       "      <th>2</th>\n",
       "      <td>205</td>\n",
       "      <td>NaN</td>\n",
       "      <td>10.0</td>\n",
       "      <td>0.05</td>\n",
       "      <td>0.24</td>\n",
       "      <td>NaN</td>\n",
       "      <td>0.100</td>\n",
       "      <td>NaN</td>\n",
       "      <td>NaN</td>\n",
       "      <td>NaN</td>\n",
       "      <td>...</td>\n",
       "      <td>NaN</td>\n",
       "      <td>1.0</td>\n",
       "      <td>1.0</td>\n",
       "      <td>1.00</td>\n",
       "      <td>1.0</td>\n",
       "      <td>7.80</td>\n",
       "      <td>7.70</td>\n",
       "      <td>0</td>\n",
       "      <td>0</td>\n",
       "      <td>0</td>\n",
       "    </tr>\n",
       "    <tr>\n",
       "      <th>3</th>\n",
       "      <td>1228</td>\n",
       "      <td>NaN</td>\n",
       "      <td>NaN</td>\n",
       "      <td>0.09</td>\n",
       "      <td>0.05</td>\n",
       "      <td>0.641</td>\n",
       "      <td>0.932</td>\n",
       "      <td>NaN</td>\n",
       "      <td>NaN</td>\n",
       "      <td>NaN</td>\n",
       "      <td>...</td>\n",
       "      <td>1.0</td>\n",
       "      <td>NaN</td>\n",
       "      <td>NaN</td>\n",
       "      <td>0.50</td>\n",
       "      <td>0.5</td>\n",
       "      <td>7.44</td>\n",
       "      <td>7.58</td>\n",
       "      <td>0</td>\n",
       "      <td>0</td>\n",
       "      <td>0</td>\n",
       "    </tr>\n",
       "    <tr>\n",
       "      <th>4</th>\n",
       "      <td>470</td>\n",
       "      <td>NaN</td>\n",
       "      <td>NaN</td>\n",
       "      <td>0.06</td>\n",
       "      <td>0.05</td>\n",
       "      <td>NaN</td>\n",
       "      <td>NaN</td>\n",
       "      <td>NaN</td>\n",
       "      <td>NaN</td>\n",
       "      <td>NaN</td>\n",
       "      <td>...</td>\n",
       "      <td>0.0</td>\n",
       "      <td>NaN</td>\n",
       "      <td>NaN</td>\n",
       "      <td>0.20</td>\n",
       "      <td>44.0</td>\n",
       "      <td>7.70</td>\n",
       "      <td>8.00</td>\n",
       "      <td>0</td>\n",
       "      <td>1</td>\n",
       "      <td>0</td>\n",
       "    </tr>\n",
       "    <tr>\n",
       "      <th>5</th>\n",
       "      <td>614</td>\n",
       "      <td>NaN</td>\n",
       "      <td>NaN</td>\n",
       "      <td>0.12</td>\n",
       "      <td>0.13</td>\n",
       "      <td>NaN</td>\n",
       "      <td>NaN</td>\n",
       "      <td>NaN</td>\n",
       "      <td>NaN</td>\n",
       "      <td>NaN</td>\n",
       "      <td>...</td>\n",
       "      <td>1.0</td>\n",
       "      <td>NaN</td>\n",
       "      <td>NaN</td>\n",
       "      <td>0.50</td>\n",
       "      <td>0.5</td>\n",
       "      <td>8.64</td>\n",
       "      <td>8.45</td>\n",
       "      <td>0</td>\n",
       "      <td>0</td>\n",
       "      <td>1</td>\n",
       "    </tr>\n",
       "    <tr>\n",
       "      <th>6</th>\n",
       "      <td>1420</td>\n",
       "      <td>NaN</td>\n",
       "      <td>NaN</td>\n",
       "      <td>NaN</td>\n",
       "      <td>NaN</td>\n",
       "      <td>NaN</td>\n",
       "      <td>NaN</td>\n",
       "      <td>NaN</td>\n",
       "      <td>NaN</td>\n",
       "      <td>0.0</td>\n",
       "      <td>...</td>\n",
       "      <td>NaN</td>\n",
       "      <td>1.0</td>\n",
       "      <td>2.0</td>\n",
       "      <td>1.00</td>\n",
       "      <td>1.0</td>\n",
       "      <td>7.50</td>\n",
       "      <td>8.00</td>\n",
       "      <td>0</td>\n",
       "      <td>0</td>\n",
       "      <td>0</td>\n",
       "    </tr>\n",
       "    <tr>\n",
       "      <th>7</th>\n",
       "      <td>188</td>\n",
       "      <td>NaN</td>\n",
       "      <td>NaN</td>\n",
       "      <td>0.23</td>\n",
       "      <td>NaN</td>\n",
       "      <td>NaN</td>\n",
       "      <td>NaN</td>\n",
       "      <td>NaN</td>\n",
       "      <td>NaN</td>\n",
       "      <td>NaN</td>\n",
       "      <td>...</td>\n",
       "      <td>0.0</td>\n",
       "      <td>NaN</td>\n",
       "      <td>NaN</td>\n",
       "      <td>0.50</td>\n",
       "      <td>0.5</td>\n",
       "      <td>7.45</td>\n",
       "      <td>7.40</td>\n",
       "      <td>1</td>\n",
       "      <td>1</td>\n",
       "      <td>0</td>\n",
       "    </tr>\n",
       "    <tr>\n",
       "      <th>8</th>\n",
       "      <td>1286</td>\n",
       "      <td>NaN</td>\n",
       "      <td>50.0</td>\n",
       "      <td>0.20</td>\n",
       "      <td>0.23</td>\n",
       "      <td>NaN</td>\n",
       "      <td>0.091</td>\n",
       "      <td>NaN</td>\n",
       "      <td>6.5</td>\n",
       "      <td>NaN</td>\n",
       "      <td>...</td>\n",
       "      <td>NaN</td>\n",
       "      <td>NaN</td>\n",
       "      <td>NaN</td>\n",
       "      <td>0.72</td>\n",
       "      <td>0.5</td>\n",
       "      <td>7.50</td>\n",
       "      <td>7.70</td>\n",
       "      <td>1</td>\n",
       "      <td>0</td>\n",
       "      <td>1</td>\n",
       "    </tr>\n",
       "    <tr>\n",
       "      <th>9</th>\n",
       "      <td>736</td>\n",
       "      <td>NaN</td>\n",
       "      <td>NaN</td>\n",
       "      <td>0.05</td>\n",
       "      <td>NaN</td>\n",
       "      <td>NaN</td>\n",
       "      <td>NaN</td>\n",
       "      <td>NaN</td>\n",
       "      <td>NaN</td>\n",
       "      <td>NaN</td>\n",
       "      <td>...</td>\n",
       "      <td>1.0</td>\n",
       "      <td>NaN</td>\n",
       "      <td>NaN</td>\n",
       "      <td>0.50</td>\n",
       "      <td>0.5</td>\n",
       "      <td>7.53</td>\n",
       "      <td>7.26</td>\n",
       "      <td>0</td>\n",
       "      <td>0</td>\n",
       "      <td>0</td>\n",
       "    </tr>\n",
       "    <tr>\n",
       "      <th>10</th>\n",
       "      <td>495</td>\n",
       "      <td>NaN</td>\n",
       "      <td>NaN</td>\n",
       "      <td>0.05</td>\n",
       "      <td>0.05</td>\n",
       "      <td>NaN</td>\n",
       "      <td>NaN</td>\n",
       "      <td>NaN</td>\n",
       "      <td>NaN</td>\n",
       "      <td>NaN</td>\n",
       "      <td>...</td>\n",
       "      <td>0.0</td>\n",
       "      <td>NaN</td>\n",
       "      <td>NaN</td>\n",
       "      <td>0.20</td>\n",
       "      <td>0.2</td>\n",
       "      <td>7.70</td>\n",
       "      <td>7.60</td>\n",
       "      <td>0</td>\n",
       "      <td>0</td>\n",
       "      <td>0</td>\n",
       "    </tr>\n",
       "    <tr>\n",
       "      <th>11</th>\n",
       "      <td>1417</td>\n",
       "      <td>NaN</td>\n",
       "      <td>NaN</td>\n",
       "      <td>NaN</td>\n",
       "      <td>NaN</td>\n",
       "      <td>NaN</td>\n",
       "      <td>NaN</td>\n",
       "      <td>NaN</td>\n",
       "      <td>NaN</td>\n",
       "      <td>0.0</td>\n",
       "      <td>...</td>\n",
       "      <td>NaN</td>\n",
       "      <td>2.0</td>\n",
       "      <td>2.0</td>\n",
       "      <td>1.00</td>\n",
       "      <td>1.0</td>\n",
       "      <td>7.80</td>\n",
       "      <td>8.10</td>\n",
       "      <td>0</td>\n",
       "      <td>0</td>\n",
       "      <td>0</td>\n",
       "    </tr>\n",
       "    <tr>\n",
       "      <th>12</th>\n",
       "      <td>169</td>\n",
       "      <td>5.0</td>\n",
       "      <td>5.0</td>\n",
       "      <td>0.29</td>\n",
       "      <td>0.23</td>\n",
       "      <td>0.277</td>\n",
       "      <td>7.700</td>\n",
       "      <td>16.0</td>\n",
       "      <td>10.0</td>\n",
       "      <td>NaN</td>\n",
       "      <td>...</td>\n",
       "      <td>0.0</td>\n",
       "      <td>NaN</td>\n",
       "      <td>NaN</td>\n",
       "      <td>0.30</td>\n",
       "      <td>0.4</td>\n",
       "      <td>8.10</td>\n",
       "      <td>8.20</td>\n",
       "      <td>0</td>\n",
       "      <td>1</td>\n",
       "      <td>0</td>\n",
       "    </tr>\n",
       "    <tr>\n",
       "      <th>13</th>\n",
       "      <td>1526</td>\n",
       "      <td>NaN</td>\n",
       "      <td>NaN</td>\n",
       "      <td>0.16</td>\n",
       "      <td>0.06</td>\n",
       "      <td>NaN</td>\n",
       "      <td>NaN</td>\n",
       "      <td>NaN</td>\n",
       "      <td>13.5</td>\n",
       "      <td>0.0</td>\n",
       "      <td>...</td>\n",
       "      <td>0.0</td>\n",
       "      <td>NaN</td>\n",
       "      <td>NaN</td>\n",
       "      <td>NaN</td>\n",
       "      <td>NaN</td>\n",
       "      <td>7.68</td>\n",
       "      <td>7.88</td>\n",
       "      <td>0</td>\n",
       "      <td>1</td>\n",
       "      <td>0</td>\n",
       "    </tr>\n",
       "    <tr>\n",
       "      <th>14</th>\n",
       "      <td>1938</td>\n",
       "      <td>NaN</td>\n",
       "      <td>NaN</td>\n",
       "      <td>0.05</td>\n",
       "      <td>NaN</td>\n",
       "      <td>NaN</td>\n",
       "      <td>NaN</td>\n",
       "      <td>NaN</td>\n",
       "      <td>NaN</td>\n",
       "      <td>NaN</td>\n",
       "      <td>...</td>\n",
       "      <td>NaN</td>\n",
       "      <td>1.0</td>\n",
       "      <td>1.0</td>\n",
       "      <td>1.10</td>\n",
       "      <td>1.0</td>\n",
       "      <td>7.60</td>\n",
       "      <td>7.50</td>\n",
       "      <td>0</td>\n",
       "      <td>0</td>\n",
       "      <td>0</td>\n",
       "    </tr>\n",
       "    <tr>\n",
       "      <th>15</th>\n",
       "      <td>286</td>\n",
       "      <td>10.0</td>\n",
       "      <td>NaN</td>\n",
       "      <td>0.05</td>\n",
       "      <td>NaN</td>\n",
       "      <td>0.300</td>\n",
       "      <td>NaN</td>\n",
       "      <td>50.0</td>\n",
       "      <td>NaN</td>\n",
       "      <td>NaN</td>\n",
       "      <td>...</td>\n",
       "      <td>NaN</td>\n",
       "      <td>1.0</td>\n",
       "      <td>1.0</td>\n",
       "      <td>1.00</td>\n",
       "      <td>1.0</td>\n",
       "      <td>7.10</td>\n",
       "      <td>7.50</td>\n",
       "      <td>0</td>\n",
       "      <td>0</td>\n",
       "      <td>0</td>\n",
       "    </tr>\n",
       "    <tr>\n",
       "      <th>16</th>\n",
       "      <td>990</td>\n",
       "      <td>5.0</td>\n",
       "      <td>5.0</td>\n",
       "      <td>0.05</td>\n",
       "      <td>NaN</td>\n",
       "      <td>0.311</td>\n",
       "      <td>0.274</td>\n",
       "      <td>50.0</td>\n",
       "      <td>46.0</td>\n",
       "      <td>0.0</td>\n",
       "      <td>...</td>\n",
       "      <td>NaN</td>\n",
       "      <td>2.0</td>\n",
       "      <td>2.0</td>\n",
       "      <td>4.60</td>\n",
       "      <td>1.0</td>\n",
       "      <td>7.70</td>\n",
       "      <td>7.90</td>\n",
       "      <td>0</td>\n",
       "      <td>0</td>\n",
       "      <td>0</td>\n",
       "    </tr>\n",
       "  </tbody>\n",
       "</table>\n",
       "<p>17 rows × 58 columns</p>\n",
       "</div>"
      ],
      "text/plain": [
       "    station_id  Aluminium_2019  Aluminium_2020  Ammonium_2019  Ammonium_2020  \\\n",
       "0          487             NaN             NaN           0.05           0.05   \n",
       "1         1555             NaN             NaN           0.05           0.05   \n",
       "2          205             NaN            10.0           0.05           0.24   \n",
       "3         1228             NaN             NaN           0.09           0.05   \n",
       "4          470             NaN             NaN           0.06           0.05   \n",
       "5          614             NaN             NaN           0.12           0.13   \n",
       "6         1420             NaN             NaN            NaN            NaN   \n",
       "7          188             NaN             NaN           0.23            NaN   \n",
       "8         1286             NaN            50.0           0.20           0.23   \n",
       "9          736             NaN             NaN           0.05            NaN   \n",
       "10         495             NaN             NaN           0.05           0.05   \n",
       "11        1417             NaN             NaN            NaN            NaN   \n",
       "12         169             5.0             5.0           0.29           0.23   \n",
       "13        1526             NaN             NaN           0.16           0.06   \n",
       "14        1938             NaN             NaN           0.05            NaN   \n",
       "15         286            10.0             NaN           0.05            NaN   \n",
       "16         990             5.0             5.0           0.05            NaN   \n",
       "\n",
       "    Boron_2019  Boron_2020  Chloride_2019  Chloride_2020  \\\n",
       "0          NaN         NaN            NaN            NaN   \n",
       "1          NaN         NaN            NaN            NaN   \n",
       "2          NaN       0.100            NaN            NaN   \n",
       "3        0.641       0.932            NaN            NaN   \n",
       "4          NaN         NaN            NaN            NaN   \n",
       "5          NaN         NaN            NaN            NaN   \n",
       "6          NaN         NaN            NaN            NaN   \n",
       "7          NaN         NaN            NaN            NaN   \n",
       "8          NaN       0.091            NaN            6.5   \n",
       "9          NaN         NaN            NaN            NaN   \n",
       "10         NaN         NaN            NaN            NaN   \n",
       "11         NaN         NaN            NaN            NaN   \n",
       "12       0.277       7.700           16.0           10.0   \n",
       "13         NaN         NaN            NaN           13.5   \n",
       "14         NaN         NaN            NaN            NaN   \n",
       "15       0.300         NaN           50.0            NaN   \n",
       "16       0.311       0.274           50.0           46.0   \n",
       "\n",
       "    Coli-like-bacteria-Colilert_2019  ...  Taste-ball-units_2020  \\\n",
       "0                                NaN  ...                    0.0   \n",
       "1                                NaN  ...                    NaN   \n",
       "2                                NaN  ...                    NaN   \n",
       "3                                NaN  ...                    1.0   \n",
       "4                                NaN  ...                    0.0   \n",
       "5                                NaN  ...                    1.0   \n",
       "6                                0.0  ...                    NaN   \n",
       "7                                NaN  ...                    0.0   \n",
       "8                                NaN  ...                    NaN   \n",
       "9                                NaN  ...                    1.0   \n",
       "10                               NaN  ...                    0.0   \n",
       "11                               0.0  ...                    NaN   \n",
       "12                               NaN  ...                    0.0   \n",
       "13                               0.0  ...                    0.0   \n",
       "14                               NaN  ...                    NaN   \n",
       "15                               NaN  ...                    NaN   \n",
       "16                               0.0  ...                    NaN   \n",
       "\n",
       "    Taste-dilution-degree_2019  Taste-dilution-degree_2020  \\\n",
       "0                          NaN                         NaN   \n",
       "1                          1.0                         1.0   \n",
       "2                          1.0                         1.0   \n",
       "3                          NaN                         NaN   \n",
       "4                          NaN                         NaN   \n",
       "5                          NaN                         NaN   \n",
       "6                          1.0                         2.0   \n",
       "7                          NaN                         NaN   \n",
       "8                          NaN                         NaN   \n",
       "9                          NaN                         NaN   \n",
       "10                         NaN                         NaN   \n",
       "11                         2.0                         2.0   \n",
       "12                         NaN                         NaN   \n",
       "13                         NaN                         NaN   \n",
       "14                         1.0                         1.0   \n",
       "15                         1.0                         1.0   \n",
       "16                         2.0                         2.0   \n",
       "\n",
       "    Turbidity-NTU_2019  Turbidity-NTU_2020  pH _2019  pH _2020  \\\n",
       "0                 1.60                 0.2      7.80      7.60   \n",
       "1                 1.00                 1.0      7.30      7.10   \n",
       "2                 1.00                 1.0      7.80      7.70   \n",
       "3                 0.50                 0.5      7.44      7.58   \n",
       "4                 0.20                44.0      7.70      8.00   \n",
       "5                 0.50                 0.5      8.64      8.45   \n",
       "6                 1.00                 1.0      7.50      8.00   \n",
       "7                 0.50                 0.5      7.45      7.40   \n",
       "8                 0.72                 0.5      7.50      7.70   \n",
       "9                 0.50                 0.5      7.53      7.26   \n",
       "10                0.20                 0.2      7.70      7.60   \n",
       "11                1.00                 1.0      7.80      8.10   \n",
       "12                0.30                 0.4      8.10      8.20   \n",
       "13                 NaN                 NaN      7.68      7.88   \n",
       "14                1.10                 1.0      7.60      7.50   \n",
       "15                1.00                 1.0      7.10      7.50   \n",
       "16                4.60                 1.0      7.70      7.90   \n",
       "\n",
       "    compliance_2019  compliance_2020  compliance_2021  \n",
       "0                 0                0                0  \n",
       "1                 0                0                0  \n",
       "2                 0                0                0  \n",
       "3                 0                0                0  \n",
       "4                 0                1                0  \n",
       "5                 0                0                1  \n",
       "6                 0                0                0  \n",
       "7                 1                1                0  \n",
       "8                 1                0                1  \n",
       "9                 0                0                0  \n",
       "10                0                0                0  \n",
       "11                0                0                0  \n",
       "12                0                1                0  \n",
       "13                0                1                0  \n",
       "14                0                0                0  \n",
       "15                0                0                0  \n",
       "16                0                0                0  \n",
       "\n",
       "[17 rows x 58 columns]"
      ]
     },
     "execution_count": 3,
     "metadata": {},
     "output_type": "execute_result"
    }
   ],
   "source": [
    "train = pd.read_csv('train.csv')\n",
    "train.head(17)"
   ]
  },
  {
   "cell_type": "code",
   "execution_count": 4,
   "metadata": {
    "colab": {
     "base_uri": "https://localhost:8080/"
    },
    "id": "avJ3AB6qSC8i",
    "outputId": "e1a719cd-4019-4380-a50a-77cd50e28104"
   },
   "outputs": [
    {
     "data": {
      "text/plain": [
       "Index(['station_id', 'Aluminium_2019', 'Aluminium_2020', 'Ammonium_2019',\n",
       "       'Ammonium_2020', 'Boron_2019', 'Boron_2020', 'Chloride_2019',\n",
       "       'Chloride_2020', 'Coli-like-bacteria-Colilert_2019',\n",
       "       'Coli-like-bacteria-Colilert_2020', 'Coli-like-bacteria_2019',\n",
       "       'Coli-like-bacteria_2020', 'Colony-count-at-22-C_2019',\n",
       "       'Colony-count-at-22-C_2020', 'Color-Pt-Co-unit_2019',\n",
       "       'Color-Pt-Co-unit_2020', 'Color-Pt/Co-scale_2019',\n",
       "       'Color-Pt/Co-scale_2020', 'Electrical-conductivity_2019',\n",
       "       'Electrical-conductivity_2020', 'Enterococci_2019', 'Enterococci_2020',\n",
       "       'Escherichia-coli-Colilert_2019', 'Escherichia-coli-Colilert_2020',\n",
       "       'Escherichia-coli_2019', 'Escherichia-coli_2020', 'Fluoride_2019',\n",
       "       'Fluoride_2020', 'Iron_2019', 'Iron_2020', 'Manganese_2019',\n",
       "       'Manganese_2020', 'Nitrate_2019', 'Nitrate_2020', 'Nitrite_2019',\n",
       "       'Nitrite_2020', 'Odour-dilution-level_2019',\n",
       "       'Odour-dilution-level_2020', 'Oxidability_2019', 'Oxidability_2020',\n",
       "       'Smell-ball-units_2019', 'Smell-ball-units_2020', 'Sodium_2019',\n",
       "       'Sodium_2020', 'Sulphate_2019', 'Sulphate_2020',\n",
       "       'Taste-ball-units_2019', 'Taste-ball-units_2020',\n",
       "       'Taste-dilution-degree_2019', 'Taste-dilution-degree_2020',\n",
       "       'Turbidity-NTU_2019', 'Turbidity-NTU_2020', 'pH _2019', 'pH _2020',\n",
       "       'compliance_2019', 'compliance_2020', 'compliance_2021'],\n",
       "      dtype='object')"
      ]
     },
     "execution_count": 4,
     "metadata": {},
     "output_type": "execute_result"
    }
   ],
   "source": [
    "train.columns"
   ]
  },
  {
   "cell_type": "code",
   "execution_count": 5,
   "metadata": {
    "colab": {
     "base_uri": "https://localhost:8080/"
    },
    "id": "puVfZXJoPFc3",
    "outputId": "cc3d9f20-3320-431f-a3f5-78264350557d"
   },
   "outputs": [
    {
     "name": "stdout",
     "output_type": "stream",
     "text": [
      "(440, 58)\n",
      "(189, 57)\n"
     ]
    }
   ],
   "source": [
    "print(train.shape)\n",
    "print(test.shape)"
   ]
  },
  {
   "cell_type": "code",
   "execution_count": 6,
   "metadata": {
    "colab": {
     "base_uri": "https://localhost:8080/"
    },
    "id": "Wt3zDISAYCgZ",
    "outputId": "e01a8bb8-fa4b-4b69-deb9-69c97a19c0a2"
   },
   "outputs": [
    {
     "name": "stdout",
     "output_type": "stream",
     "text": [
      "<class 'pandas.core.frame.DataFrame'>\n",
      "RangeIndex: 440 entries, 0 to 439\n",
      "Data columns (total 58 columns):\n",
      " #   Column                            Non-Null Count  Dtype  \n",
      "---  ------                            --------------  -----  \n",
      " 0   station_id                        440 non-null    int64  \n",
      " 1   Aluminium_2019                    103 non-null    float64\n",
      " 2   Aluminium_2020                    94 non-null     float64\n",
      " 3   Ammonium_2019                     307 non-null    float64\n",
      " 4   Ammonium_2020                     290 non-null    float64\n",
      " 5   Boron_2019                        116 non-null    float64\n",
      " 6   Boron_2020                        108 non-null    float64\n",
      " 7   Chloride_2019                     111 non-null    float64\n",
      " 8   Chloride_2020                     114 non-null    float64\n",
      " 9   Coli-like-bacteria-Colilert_2019  125 non-null    float64\n",
      " 10  Coli-like-bacteria-Colilert_2020  125 non-null    float64\n",
      " 11  Coli-like-bacteria_2019           322 non-null    float64\n",
      " 12  Coli-like-bacteria_2020           320 non-null    float64\n",
      " 13  Colony-count-at-22-C_2019         370 non-null    float64\n",
      " 14  Colony-count-at-22-C_2020         387 non-null    float64\n",
      " 15  Color-Pt-Co-unit_2019             59 non-null     float64\n",
      " 16  Color-Pt-Co-unit_2020             63 non-null     float64\n",
      " 17  Color-Pt/Co-scale_2019            372 non-null    float64\n",
      " 18  Color-Pt/Co-scale_2020            379 non-null    float64\n",
      " 19  Electrical-conductivity_2019      430 non-null    float64\n",
      " 20  Electrical-conductivity_2020      436 non-null    float64\n",
      " 21  Enterococci_2019                  184 non-null    float64\n",
      " 22  Enterococci_2020                  173 non-null    float64\n",
      " 23  Escherichia-coli-Colilert_2019    124 non-null    float64\n",
      " 24  Escherichia-coli-Colilert_2020    124 non-null    float64\n",
      " 25  Escherichia-coli_2019             322 non-null    float64\n",
      " 26  Escherichia-coli_2020             316 non-null    float64\n",
      " 27  Fluoride_2019                     136 non-null    float64\n",
      " 28  Fluoride_2020                     142 non-null    float64\n",
      " 29  Iron_2019                         372 non-null    float64\n",
      " 30  Iron_2020                         384 non-null    float64\n",
      " 31  Manganese_2019                    253 non-null    float64\n",
      " 32  Manganese_2020                    262 non-null    float64\n",
      " 33  Nitrate_2019                      108 non-null    float64\n",
      " 34  Nitrate_2020                      114 non-null    float64\n",
      " 35  Nitrite_2019                      116 non-null    float64\n",
      " 36  Nitrite_2020                      125 non-null    float64\n",
      " 37  Odour-dilution-level_2019         333 non-null    float64\n",
      " 38  Odour-dilution-level_2020         337 non-null    float64\n",
      " 39  Oxidability_2019                  142 non-null    float64\n",
      " 40  Oxidability_2020                  140 non-null    float64\n",
      " 41  Smell-ball-units_2019             95 non-null     float64\n",
      " 42  Smell-ball-units_2020             106 non-null    float64\n",
      " 43  Sodium_2019                       144 non-null    float64\n",
      " 44  Sodium_2020                       131 non-null    float64\n",
      " 45  Sulphate_2019                     154 non-null    float64\n",
      " 46  Sulphate_2020                     132 non-null    float64\n",
      " 47  Taste-ball-units_2019             94 non-null     float64\n",
      " 48  Taste-ball-units_2020             103 non-null    float64\n",
      " 49  Taste-dilution-degree_2019        305 non-null    float64\n",
      " 50  Taste-dilution-degree_2020        306 non-null    float64\n",
      " 51  Turbidity-NTU_2019                419 non-null    float64\n",
      " 52  Turbidity-NTU_2020                426 non-null    float64\n",
      " 53  pH _2019                          432 non-null    float64\n",
      " 54  pH _2020                          438 non-null    float64\n",
      " 55  compliance_2019                   440 non-null    int64  \n",
      " 56  compliance_2020                   440 non-null    int64  \n",
      " 57  compliance_2021                   440 non-null    int64  \n",
      "dtypes: float64(54), int64(4)\n",
      "memory usage: 199.5 KB\n"
     ]
    }
   ],
   "source": [
    "train.info()"
   ]
  },
  {
   "cell_type": "code",
   "execution_count": 7,
   "metadata": {
    "colab": {
     "base_uri": "https://localhost:8080/",
     "height": 479
    },
    "id": "9frjaFIsPIfG",
    "outputId": "a72543ac-5d01-490c-d0dd-d92b8e34d672"
   },
   "outputs": [
    {
     "data": {
      "image/png": "[encoded data removed]",
      "text/plain": [
       "<Figure size 900x800 with 1 Axes>"
      ]
     },
     "metadata": {},
     "output_type": "display_data"
    }
   ],
   "source": [
    "plt.figure(figsize=(9,8))\n",
    "train['compliance_2019'].value_counts().plot(kind='bar')\n",
    "plt.show()"
   ]
  },
  {
   "cell_type": "code",
   "execution_count": 8,
   "metadata": {
    "colab": {
     "base_uri": "https://localhost:8080/",
     "height": 479
    },
    "id": "Zs7DpnuvQdWI",
    "outputId": "b02546b9-af05-49c3-85db-36e9bf5ab2da"
   },
   "outputs": [
    {
     "data": {
      "image/png": "[encoded data removed]",
      "text/plain": [
       "<Figure size 900x800 with 1 Axes>"
      ]
     },
     "metadata": {},
     "output_type": "display_data"
    }
   ],
   "source": [
    "plt.figure(figsize=(9,8))\n",
    "train['compliance_2020'].value_counts().plot(kind='bar')\n",
    "plt.show()"
   ]
  },
  {
   "cell_type": "code",
   "execution_count": 9,
   "metadata": {
    "colab": {
     "base_uri": "https://localhost:8080/",
     "height": 479
    },
    "id": "oTrtsUEVRUiR",
    "outputId": "e5e164d8-af12-4e06-f6dd-6e2cbfd5b1b8"
   },
   "outputs": [
    {
     "data": {
      "image/png": "[encoded data removed]",
      "text/plain": [
       "<Figure size 900x800 with 1 Axes>"
      ]
     },
     "metadata": {},
     "output_type": "display_data"
    }
   ],
   "source": [
    "plt.figure(figsize=(9,8))\n",
    "train['compliance_2021'].value_counts().plot(kind='bar')\n",
    "plt.show()"
   ]
  },
  {
   "cell_type": "code",
   "execution_count": 10,
   "metadata": {
    "id": "gxkfWwYXMRXr"
   },
   "outputs": [],
   "source": [
    "train.fillna(0.0, inplace=True)\n",
    "test.fillna(0.0, inplace=True)"
   ]
  },
  {
   "cell_type": "code",
   "execution_count": 11,
   "metadata": {
    "colab": {
     "base_uri": "https://localhost:8080/"
    },
    "id": "icY_BrHdW_tB",
    "outputId": "cf578b9d-3114-4c05-bfa7-cc8c4c1190a4"
   },
   "outputs": [
    {
     "name": "stdout",
     "output_type": "stream",
     "text": [
      "0    374\n",
      "Name: compliance_2021, dtype: int64\n",
      "0    374\n",
      "1    374\n",
      "Name: compliance_2021, dtype: int64\n"
     ]
    }
   ],
   "source": [
    "from sklearn.utils import resample\n",
    "print(train[train['compliance_2021']==0]['compliance_2021'].value_counts())\n",
    "df_majority = train[train['compliance_2021']==1]\n",
    "df_minority = train[train['compliance_2021']==0]\n",
    "\n",
    "df_majority_downsampled = resample(df_majority, \n",
    "                                 replace=True,    # sample without replacement\n",
    "                                 n_samples=374,     # to match minority class\n",
    "                                 random_state=123) # reproducible results\n",
    "\n",
    "\n",
    "# Combine minority class with downsampled majority class\n",
    "df_downsampled = pd.concat([df_majority_downsampled, df_minority])\n",
    "df_downsampled.sort_index(inplace=True)\n",
    "\n",
    "y = df_downsampled['compliance_2021']\n",
    "X = df_downsampled.drop('compliance_2021', axis=1)\n",
    "print(y.value_counts())"
   ]
  },
  {
   "cell_type": "code",
   "execution_count": 12,
   "metadata": {
    "id": "hjQSXfT60Qlu"
   },
   "outputs": [],
   "source": [
    "train_ratio = 0.8\n",
    "validation_ratio = 0.1\n",
    "test_ratio = 0.1\n",
    "\n",
    "X_train, X_test, y_train, y_test = train_test_split(X, y, test_size=1 - train_ratio, random_state=9)\n",
    "\n",
    "X_val, X_test, y_val, y_test = train_test_split(X_test, y_test,\n",
    "                                                test_size=test_ratio/(test_ratio + validation_ratio), random_state=4) "
   ]
  },
  {
   "cell_type": "code",
   "execution_count": 13,
   "metadata": {
    "id": "D-2vNx3w0UQj"
   },
   "outputs": [],
   "source": [
    "# replace nan values with median values by using simpleinputer \n",
    "num_imp = SimpleImputer(strategy = 'mean')\n",
    "num_imp.fit(train)\n",
    "\n",
    "# X_imp_train = pd.DataFrame(num_imp.transform(X_train))\n",
    "# X_imp_test = pd.DataFrame(num_imp.transform(X_test))\n",
    "# X_imp_val = pd.DataFrame(num_imp.transform(X_val))\n",
    "\n",
    "std = StandardScaler()\n",
    "std.fit(X_train)\n",
    "\n",
    "X_train_std = std.transform(X_train)\n",
    "X_test_std = std.transform(X_test)\n",
    "X_val_std = std.transform(X_val)"
   ]
  },
  {
   "cell_type": "code",
   "execution_count": 14,
   "metadata": {
    "colab": {
     "base_uri": "https://localhost:8080/"
    },
    "id": "EE15ATSe1ovf",
    "outputId": "d11f5d4c-8fc7-42ee-85da-3136e21e12b9"
   },
   "outputs": [
    {
     "name": "stdout",
     "output_type": "stream",
     "text": [
      "Confusion matrix:\n",
      "[[23 10]\n",
      " [ 2 40]]\n",
      "Accuracy of model on the test data 0.84\n",
      "Accuracy of model on the validation data 0.76\n"
     ]
    }
   ],
   "source": [
    "from sklearn.neighbors import KNeighborsClassifier\n",
    "knn = KNeighborsClassifier().fit(X_train_std,y_train)\n",
    "\n",
    "y_pred = knn.predict(X_test_std)\n",
    "confusion_matrix_result = confusion_matrix(y_test.values, y_pred)\n",
    "print(\"Confusion matrix:\\n%s\" % confusion_matrix_result)\n",
    "print(f'Accuracy of model on the test data {accuracy_score(knn.predict(X_test_std), y_test)}')\n",
    "print(f'Accuracy of model on the validation data {accuracy_score(knn.predict(X_val_std), y_val)}')"
   ]
  },
  {
   "cell_type": "code",
   "execution_count": 15,
   "metadata": {
    "colab": {
     "base_uri": "https://localhost:8080/"
    },
    "id": "AQGD4TlXRtHm",
    "outputId": "956a0dd7-55d4-492b-fc21-55985f2dd13c"
   },
   "outputs": [
    {
     "name": "stdout",
     "output_type": "stream",
     "text": [
      "Confusion matrix:\n",
      "[[25  8]\n",
      " [11 31]]\n",
      "Accuracy of model on the test data 0.7466666666666667\n",
      "Accuracy of model on the validation data 0.6933333333333334\n"
     ]
    }
   ],
   "source": [
    "lr = LogisticRegression()\n",
    "lr.fit(X_train_std,y_train)\n",
    "y_pred =lr.predict(X_test_std)\n",
    "\n",
    "confusion_matrix_result = confusion_matrix(y_test.values, y_pred)\n",
    "print(\"Confusion matrix:\\n%s\" % confusion_matrix_result)\n",
    "\n",
    "print(f'Accuracy of model on the test data {accuracy_score(lr.predict(X_test_std), y_test)}')\n",
    "print(f'Accuracy of model on the validation data {accuracy_score(lr.predict(X_val_std), y_val)}')"
   ]
  },
  {
   "cell_type": "code",
   "execution_count": 16,
   "metadata": {
    "colab": {
     "base_uri": "https://localhost:8080/"
    },
    "id": "v_QiGN690ZbX",
    "outputId": "2294a5df-49f7-4d5f-8f41-0829ff665a5e"
   },
   "outputs": [
    {
     "name": "stdout",
     "output_type": "stream",
     "text": [
      "Confusion matrix:\n",
      "[[32  1]\n",
      " [ 0 42]]\n",
      "Accuracy of model on the test data 0.9866666666666667\n",
      "Accuracy of model on the validation data 0.9733333333333334\n"
     ]
    }
   ],
   "source": [
    "rfc = RandomForestClassifier(random_state=42)\n",
    "rfc.fit(X_train_std,y_train)\n",
    "y_pred = rfc.predict(X_test_std)\n",
    "\n",
    "confusion_matrix_result = confusion_matrix(y_test.values, y_pred)\n",
    "print(\"Confusion matrix:\\n%s\" % confusion_matrix_result)\n",
    "accuracy_score(rfc.predict(X_test_std), y_test)\n",
    "\n",
    "print(f'Accuracy of model on the test data {accuracy_score(rfc.predict(X_test_std), y_test)}')\n",
    "print(f'Accuracy of model on the validation data {accuracy_score(rfc.predict(X_val_std), y_val)}')"
   ]
  },
  {
   "cell_type": "code",
   "execution_count": 17,
   "metadata": {
    "id": "Rz9FKv76RvYx"
   },
   "outputs": [],
   "source": [
    "# rfm = RandomForestClassifier(random_state=2)"
   ]
  },
  {
   "cell_type": "code",
   "execution_count": 18,
   "metadata": {
    "colab": {
     "base_uri": "https://localhost:8080/",
     "height": 118
    },
    "id": "BWgczw9xT2m2",
    "outputId": "ee771df6-a98f-4f87-dec6-dc1e447301a1"
   },
   "outputs": [],
   "source": [
    "# parameters = {\n",
    "#     \"n_estimators\":[5,10,50,100,250,500],\n",
    "#     \"max_depth\":[2,4,8,16,32,48,None, 100],\n",
    "#     \"max_features\":[1,5,10,20,30,None],\n",
    "#     \"criterion\":['gini', 'entropy'],\n",
    "    \n",
    "# }\n",
    "\n",
    "# for i in range(13, 15):\n",
    "#     rfm = RandomForestClassifier(random_state=i)\n",
    "#     cv = GridSearchCV(rfm,parameters,cv=5)\n",
    "#     cv.fit(X_train_std,y_train)\n",
    "#     print(i, cv.best_params_)"
   ]
  },
  {
   "cell_type": "code",
   "execution_count": 19,
   "metadata": {},
   "outputs": [],
   "source": [
    "# print(cv.best_params_)"
   ]
  },
  {
   "cell_type": "code",
   "execution_count": 20,
   "metadata": {
    "colab": {
     "base_uri": "https://localhost:8080/"
    },
    "id": "VLuhKRiBtyXE",
    "outputId": "724ef258-1aaf-4e5d-e912-bc2eb0405f90"
   },
   "outputs": [
    {
     "name": "stdout",
     "output_type": "stream",
     "text": [
      "Confusion matrix:\n",
      "[[32  1]\n",
      " [ 0 42]]\n",
      "Accuracy of model on the test data 0.9866666666666667\n",
      "Accuracy of model on the validation data 0.9733333333333334\n"
     ]
    }
   ],
   "source": [
    "# random 1 {'criterion': 'gini', 'max_depth': 48, 'n_estimators': 50} \n",
    "# random 2 {'criterion': 'gini', 'max_depth': 16, 'n_estimators': 50}\n",
    "#  'random_state':11, 'n_estimators': 500, 'max_depth':16, 'criterion':'gini'}\n",
    "rfm = RandomForestClassifier(random_state=5)\n",
    "rfm.fit(X_train_std,y_train)\n",
    "y_pred = rfm.predict(X_test_std)\n",
    "\n",
    "confusion_matrix_result = confusion_matrix(y_test.values, y_pred)\n",
    "print(\"Confusion matrix:\\n%s\" % confusion_matrix_result)\n",
    "accuracy_score(rfc.predict(X_test_std), y_test)\n",
    "\n",
    "print(f'Accuracy of model on the test data {accuracy_score(rfm.predict(X_test_std), y_test)}')\n",
    "print(f'Accuracy of model on the validation data {accuracy_score(rfm.predict(X_val_std), y_val)}')"
   ]
  },
  {
   "cell_type": "markdown",
   "metadata": {},
   "source": [
    "# Cross validation"
   ]
  },
  {
   "cell_type": "code",
   "execution_count": 21,
   "metadata": {},
   "outputs": [],
   "source": [
    "from sklearn.model_selection import cross_validate\n",
    "from sklearn.model_selection import cross_val_score\n",
    "\n",
    "# #  random state 11 \n",
    "\n",
    "# check_l = [\n",
    "#     {'random_state':3, 'n_estimators': 250, 'max_depth':32, 'criterion':'gini'},\n",
    "#     {'random_state':4, 'n_estimators': 10, 'max_depth':16, 'criterion':'gini'},\n",
    "#     {'random_state':5, 'n_estimators': 250, 'max_depth':32, 'criterion':'gini'},\n",
    "#     {'random_state':6, 'n_estimators': 10, 'max_depth':32, 'criterion':'gini'},\n",
    "#     {'random_state':7, 'n_estimators': 100, 'max_depth':16, 'criterion':'gini'},\n",
    "#     {'random_state':8, 'n_estimators': 250, 'max_depth':16, 'criterion':'gini'},\n",
    "#     {'random_state':9, 'n_estimators': 100, 'max_depth':16, 'criterion':'gini'},\n",
    "#     {'random_state':10, 'n_estimators': 100, 'max_depth':16, 'criterion':'gini'},\n",
    "#     {'random_state':11, 'n_estimators': 500, 'max_depth':16, 'criterion':'gini'},\n",
    "#     {'random_state': 12, 'criterion': 'gini', 'max_depth': 16, 'n_estimators': 250},\n",
    "#     {'criterion': 'gini', 'max_depth': 16, 'n_estimators': 50, 'random_state':13},\n",
    "#     {'criterion': 'gini', 'max_depth': 16, 'max_features': 1, 'n_estimators': 500, 'random_state':13},\n",
    "#     {'criterion': 'gini', 'max_depth': 32, 'max_features': 1, 'n_estimators': 50, 'random_state':14}\n",
    "# ]\n",
    "\n",
    "# res = []\n",
    "# best = 0.9566101694915254\n",
    "\n",
    "# for d in check_l:\n",
    "#     cv_dict = cross_val_score(RandomForestClassifier(random_state = d['random_state'],\n",
    "#                                                     max_depth = d['max_depth'],\n",
    "#                                                     criterion='gini',\n",
    "#                                                     n_estimators=d['n_estimators']),\n",
    "#                                                     X_train_std, y_train, cv=10)\n",
    "    \n",
    "#     res.append(cv_dict.mean())\n",
    "#     if best < cv_dict.mean():\n",
    "#         best = cv_dict.mean()\n",
    "#         print(best)\n",
    "    \n",
    "cv_dict = cross_val_score(RandomForestClassifier(random_state = 5),\n",
    "                                                X_train_std, y_train, cv=10)"
   ]
  },
  {
   "cell_type": "code",
   "execution_count": 22,
   "metadata": {},
   "outputs": [
    {
     "data": {
      "text/plain": [
       "0.9599152542372881"
      ]
     },
     "execution_count": 22,
     "metadata": {},
     "output_type": "execute_result"
    }
   ],
   "source": [
    "# res\n",
    "cv_dict.mean()"
   ]
  },
  {
   "cell_type": "code",
   "execution_count": 29,
   "metadata": {
    "id": "_xYSgBYw54Gp"
   },
   "outputs": [
    {
     "data": {
      "text/plain": [
       "189"
      ]
     },
     "execution_count": 29,
     "metadata": {},
     "output_type": "execute_result"
    }
   ],
   "source": [
    "#test_data_imp = SimpleImputer(strategy = 'median')\n",
    "#test_data_imp.fit(test)\n",
    "\n",
    "#X_imp_test_data = pd.DataFrame(test_data_imp.transform(test))\n",
    "\n",
    "\n",
    "std = StandardScaler()\n",
    "std.fit(X_train)\n",
    "X_test_data = std.transform(test)\n",
    "len(X_test_data)"
   ]
  },
  {
   "cell_type": "code",
   "execution_count": 30,
   "metadata": {
    "colab": {
     "base_uri": "https://localhost:8080/"
    },
    "id": "VaJq3d-56ZBx",
    "outputId": "6df01e25-a7e3-4742-9658-9020df6b6abe"
   },
   "outputs": [
    {
     "name": "stdout",
     "output_type": "stream",
     "text": [
      "[0 0 0 0 0 0 0 0 0 0 0 0 0 0 0 0 0 0 0 0 1 0 1 0 0 0 0 0 0 0 0 0 0 0 0 0 0\n",
      " 0 0 0 0 0 0 0 0 0 0 0 0 0 0 0 0 0 0 0 0 0 0 0 0 0 0 1 0 0 0 0 0 0 0 0 0 0\n",
      " 0 1 0 0 0 0 0 0 0 0 0 0 0 0 0 0 0 0 0 0 0 0 0 0 0 1 0 1 1 0 0 0 0 0 0 0 0\n",
      " 0 1 0 0 0 0 0 0 0 0 0 0 0 0 0 0 0 0 0 0 0 0 0 0 0 0 0 0 0 0 0 0 0 0 0 0 0\n",
      " 0 0 0 0 0 0 0 0 0 0 0 0 0 0 0 0 1 0 0 0 0 0 0 0 0 0 1 1 1 1 1 0 0 0 0 0 0\n",
      " 0 1 0 0]\n"
     ]
    }
   ],
   "source": [
    "y_pred = rfm.predict(X_test_data)\n",
    "print(y_pred)"
   ]
  },
  {
   "cell_type": "code",
   "execution_count": 31,
   "metadata": {
    "id": "KB3YOXDK6aRk"
   },
   "outputs": [],
   "source": [
    "df = pd.DataFrame()\n",
    "df['station_id'] = test.station_id\n",
    "df['compliance_2021'] = y_pred"
   ]
  },
  {
   "cell_type": "code",
   "execution_count": 32,
   "metadata": {
    "colab": {
     "base_uri": "https://localhost:8080/"
    },
    "id": "okP2Ej9U6ijD",
    "outputId": "8f354ce3-fac5-4d03-ff59-2c4effc11a8e"
   },
   "outputs": [
    {
     "data": {
      "text/plain": [
       "0    174\n",
       "1     15\n",
       "Name: compliance_2021, dtype: int64"
      ]
     },
     "execution_count": 32,
     "metadata": {},
     "output_type": "execute_result"
    }
   ],
   "source": [
    "df.compliance_2021.value_counts()"
   ]
  },
  {
   "cell_type": "code",
   "execution_count": 27,
   "metadata": {
    "colab": {
     "base_uri": "https://localhost:8080/",
     "height": 424
    },
    "id": "CC0onEJD6nw5",
    "outputId": "c6b04bb3-1f82-4068-cfb5-89e29889080d"
   },
   "outputs": [
    {
     "data": {
      "text/html": [
       "<div>\n",
       "<style scoped>\n",
       "    .dataframe tbody tr th:only-of-type {\n",
       "        vertical-align: middle;\n",
       "    }\n",
       "\n",
       "    .dataframe tbody tr th {\n",
       "        vertical-align: top;\n",
       "    }\n",
       "\n",
       "    .dataframe thead th {\n",
       "        text-align: right;\n",
       "    }\n",
       "</style>\n",
       "<table border=\"1\" class=\"dataframe\">\n",
       "  <thead>\n",
       "    <tr style=\"text-align: right;\">\n",
       "      <th></th>\n",
       "      <th>station_id</th>\n",
       "      <th>compliance_2021</th>\n",
       "    </tr>\n",
       "  </thead>\n",
       "  <tbody>\n",
       "    <tr>\n",
       "      <th>0</th>\n",
       "      <td>163</td>\n",
       "      <td>0</td>\n",
       "    </tr>\n",
       "    <tr>\n",
       "      <th>1</th>\n",
       "      <td>167</td>\n",
       "      <td>0</td>\n",
       "    </tr>\n",
       "    <tr>\n",
       "      <th>2</th>\n",
       "      <td>171</td>\n",
       "      <td>0</td>\n",
       "    </tr>\n",
       "    <tr>\n",
       "      <th>3</th>\n",
       "      <td>174</td>\n",
       "      <td>0</td>\n",
       "    </tr>\n",
       "    <tr>\n",
       "      <th>4</th>\n",
       "      <td>178</td>\n",
       "      <td>0</td>\n",
       "    </tr>\n",
       "    <tr>\n",
       "      <th>...</th>\n",
       "      <td>...</td>\n",
       "      <td>...</td>\n",
       "    </tr>\n",
       "    <tr>\n",
       "      <th>184</th>\n",
       "      <td>1941</td>\n",
       "      <td>0</td>\n",
       "    </tr>\n",
       "    <tr>\n",
       "      <th>185</th>\n",
       "      <td>2087</td>\n",
       "      <td>0</td>\n",
       "    </tr>\n",
       "    <tr>\n",
       "      <th>186</th>\n",
       "      <td>2206</td>\n",
       "      <td>1</td>\n",
       "    </tr>\n",
       "    <tr>\n",
       "      <th>187</th>\n",
       "      <td>2303</td>\n",
       "      <td>0</td>\n",
       "    </tr>\n",
       "    <tr>\n",
       "      <th>188</th>\n",
       "      <td>2307</td>\n",
       "      <td>0</td>\n",
       "    </tr>\n",
       "  </tbody>\n",
       "</table>\n",
       "<p>189 rows × 2 columns</p>\n",
       "</div>"
      ],
      "text/plain": [
       "     station_id  compliance_2021\n",
       "0           163                0\n",
       "1           167                0\n",
       "2           171                0\n",
       "3           174                0\n",
       "4           178                0\n",
       "..          ...              ...\n",
       "184        1941                0\n",
       "185        2087                0\n",
       "186        2206                1\n",
       "187        2303                0\n",
       "188        2307                0\n",
       "\n",
       "[189 rows x 2 columns]"
      ]
     },
     "execution_count": 27,
     "metadata": {},
     "output_type": "execute_result"
    }
   ],
   "source": [
    "df"
   ]
  },
  {
   "cell_type": "code",
   "execution_count": 28,
   "metadata": {
    "id": "fGd0H_QI6p1J"
   },
   "outputs": [],
   "source": [
    "df.to_csv('submission.csv', index=False)"
   ]
  },
  {
   "cell_type": "code",
   "execution_count": null,
   "metadata": {
    "id": "eL7jHucD6rZ7"
   },
   "outputs": [],
   "source": []
  }
 ],
 "metadata": {
  "colab": {
   "provenance": []
  },
  "kernelspec": {
   "display_name": "Python 3 (ipykernel)",
   "language": "python",
   "name": "python3"
  },
  "language_info": {
   "codemirror_mode": {
    "name": "ipython",
    "version": 3
   },
   "file_extension": ".py",
   "mimetype": "text/x-python",
   "name": "python",
   "nbconvert_exporter": "python",
   "pygments_lexer": "ipython3",
   "version": "3.8.13"
  }
 },
 "nbformat": 4,
 "nbformat_minor": 1
}
