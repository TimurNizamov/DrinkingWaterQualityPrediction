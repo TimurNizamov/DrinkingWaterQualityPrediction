{
 "cells": [
  {
   "cell_type": "markdown",
   "metadata": {},
   "source": [
    "# Water quelity prediction version 1"
   ]
  },
  {
   "cell_type": "markdown",
   "metadata": {},
   "source": [
    "# 1 Check data and drop duplicates\n",
    "https://www.kaggle.com/competitions/copy-of-drinking-water-quality/leaderboard"
   ]
  },
  {
   "cell_type": "code",
   "execution_count": 1,
   "metadata": {
    "id": "k4jEQ2ye3mPs"
   },
   "outputs": [],
   "source": [
    "import pandas as pd\n",
    "import numpy as np"
   ]
  },
  {
   "cell_type": "code",
   "execution_count": 2,
   "metadata": {},
   "outputs": [
    {
     "data": {
      "text/html": [
       "<div>\n",
       "<style scoped>\n",
       "    .dataframe tbody tr th:only-of-type {\n",
       "        vertical-align: middle;\n",
       "    }\n",
       "\n",
       "    .dataframe tbody tr th {\n",
       "        vertical-align: top;\n",
       "    }\n",
       "\n",
       "    .dataframe thead th {\n",
       "        text-align: right;\n",
       "    }\n",
       "</style>\n",
       "<table border=\"1\" class=\"dataframe\">\n",
       "  <thead>\n",
       "    <tr style=\"text-align: right;\">\n",
       "      <th></th>\n",
       "      <th>station_id</th>\n",
       "      <th>Aluminium_2019</th>\n",
       "      <th>Aluminium_2020</th>\n",
       "      <th>Ammonium_2019</th>\n",
       "      <th>Ammonium_2020</th>\n",
       "      <th>Boron_2019</th>\n",
       "      <th>Boron_2020</th>\n",
       "      <th>Chloride_2019</th>\n",
       "      <th>Chloride_2020</th>\n",
       "      <th>Coli-like-bacteria-Colilert_2019</th>\n",
       "      <th>...</th>\n",
       "      <th>Taste-ball-units_2020</th>\n",
       "      <th>Taste-dilution-degree_2019</th>\n",
       "      <th>Taste-dilution-degree_2020</th>\n",
       "      <th>Turbidity-NTU_2019</th>\n",
       "      <th>Turbidity-NTU_2020</th>\n",
       "      <th>pH _2019</th>\n",
       "      <th>pH _2020</th>\n",
       "      <th>compliance_2019</th>\n",
       "      <th>compliance_2020</th>\n",
       "      <th>compliance_2021</th>\n",
       "    </tr>\n",
       "  </thead>\n",
       "  <tbody>\n",
       "    <tr>\n",
       "      <th>0</th>\n",
       "      <td>487</td>\n",
       "      <td>NaN</td>\n",
       "      <td>NaN</td>\n",
       "      <td>0.05</td>\n",
       "      <td>0.05</td>\n",
       "      <td>NaN</td>\n",
       "      <td>NaN</td>\n",
       "      <td>NaN</td>\n",
       "      <td>NaN</td>\n",
       "      <td>NaN</td>\n",
       "      <td>...</td>\n",
       "      <td>0.0</td>\n",
       "      <td>NaN</td>\n",
       "      <td>NaN</td>\n",
       "      <td>1.60</td>\n",
       "      <td>0.2</td>\n",
       "      <td>7.80</td>\n",
       "      <td>7.60</td>\n",
       "      <td>0</td>\n",
       "      <td>0</td>\n",
       "      <td>0</td>\n",
       "    </tr>\n",
       "    <tr>\n",
       "      <th>1</th>\n",
       "      <td>1555</td>\n",
       "      <td>NaN</td>\n",
       "      <td>NaN</td>\n",
       "      <td>0.05</td>\n",
       "      <td>0.05</td>\n",
       "      <td>NaN</td>\n",
       "      <td>NaN</td>\n",
       "      <td>NaN</td>\n",
       "      <td>NaN</td>\n",
       "      <td>NaN</td>\n",
       "      <td>...</td>\n",
       "      <td>NaN</td>\n",
       "      <td>1.0</td>\n",
       "      <td>1.0</td>\n",
       "      <td>1.00</td>\n",
       "      <td>1.0</td>\n",
       "      <td>7.30</td>\n",
       "      <td>7.10</td>\n",
       "      <td>0</td>\n",
       "      <td>0</td>\n",
       "      <td>0</td>\n",
       "    </tr>\n",
       "    <tr>\n",
       "      <th>2</th>\n",
       "      <td>205</td>\n",
       "      <td>NaN</td>\n",
       "      <td>10.0</td>\n",
       "      <td>0.05</td>\n",
       "      <td>0.24</td>\n",
       "      <td>NaN</td>\n",
       "      <td>0.100</td>\n",
       "      <td>NaN</td>\n",
       "      <td>NaN</td>\n",
       "      <td>NaN</td>\n",
       "      <td>...</td>\n",
       "      <td>NaN</td>\n",
       "      <td>1.0</td>\n",
       "      <td>1.0</td>\n",
       "      <td>1.00</td>\n",
       "      <td>1.0</td>\n",
       "      <td>7.80</td>\n",
       "      <td>7.70</td>\n",
       "      <td>0</td>\n",
       "      <td>0</td>\n",
       "      <td>0</td>\n",
       "    </tr>\n",
       "    <tr>\n",
       "      <th>3</th>\n",
       "      <td>1228</td>\n",
       "      <td>NaN</td>\n",
       "      <td>NaN</td>\n",
       "      <td>0.09</td>\n",
       "      <td>0.05</td>\n",
       "      <td>0.641</td>\n",
       "      <td>0.932</td>\n",
       "      <td>NaN</td>\n",
       "      <td>NaN</td>\n",
       "      <td>NaN</td>\n",
       "      <td>...</td>\n",
       "      <td>1.0</td>\n",
       "      <td>NaN</td>\n",
       "      <td>NaN</td>\n",
       "      <td>0.50</td>\n",
       "      <td>0.5</td>\n",
       "      <td>7.44</td>\n",
       "      <td>7.58</td>\n",
       "      <td>0</td>\n",
       "      <td>0</td>\n",
       "      <td>0</td>\n",
       "    </tr>\n",
       "    <tr>\n",
       "      <th>4</th>\n",
       "      <td>470</td>\n",
       "      <td>NaN</td>\n",
       "      <td>NaN</td>\n",
       "      <td>0.06</td>\n",
       "      <td>0.05</td>\n",
       "      <td>NaN</td>\n",
       "      <td>NaN</td>\n",
       "      <td>NaN</td>\n",
       "      <td>NaN</td>\n",
       "      <td>NaN</td>\n",
       "      <td>...</td>\n",
       "      <td>0.0</td>\n",
       "      <td>NaN</td>\n",
       "      <td>NaN</td>\n",
       "      <td>0.20</td>\n",
       "      <td>44.0</td>\n",
       "      <td>7.70</td>\n",
       "      <td>8.00</td>\n",
       "      <td>0</td>\n",
       "      <td>1</td>\n",
       "      <td>0</td>\n",
       "    </tr>\n",
       "    <tr>\n",
       "      <th>5</th>\n",
       "      <td>614</td>\n",
       "      <td>NaN</td>\n",
       "      <td>NaN</td>\n",
       "      <td>0.12</td>\n",
       "      <td>0.13</td>\n",
       "      <td>NaN</td>\n",
       "      <td>NaN</td>\n",
       "      <td>NaN</td>\n",
       "      <td>NaN</td>\n",
       "      <td>NaN</td>\n",
       "      <td>...</td>\n",
       "      <td>1.0</td>\n",
       "      <td>NaN</td>\n",
       "      <td>NaN</td>\n",
       "      <td>0.50</td>\n",
       "      <td>0.5</td>\n",
       "      <td>8.64</td>\n",
       "      <td>8.45</td>\n",
       "      <td>0</td>\n",
       "      <td>0</td>\n",
       "      <td>1</td>\n",
       "    </tr>\n",
       "    <tr>\n",
       "      <th>6</th>\n",
       "      <td>1420</td>\n",
       "      <td>NaN</td>\n",
       "      <td>NaN</td>\n",
       "      <td>NaN</td>\n",
       "      <td>NaN</td>\n",
       "      <td>NaN</td>\n",
       "      <td>NaN</td>\n",
       "      <td>NaN</td>\n",
       "      <td>NaN</td>\n",
       "      <td>0.0</td>\n",
       "      <td>...</td>\n",
       "      <td>NaN</td>\n",
       "      <td>1.0</td>\n",
       "      <td>2.0</td>\n",
       "      <td>1.00</td>\n",
       "      <td>1.0</td>\n",
       "      <td>7.50</td>\n",
       "      <td>8.00</td>\n",
       "      <td>0</td>\n",
       "      <td>0</td>\n",
       "      <td>0</td>\n",
       "    </tr>\n",
       "    <tr>\n",
       "      <th>7</th>\n",
       "      <td>188</td>\n",
       "      <td>NaN</td>\n",
       "      <td>NaN</td>\n",
       "      <td>0.23</td>\n",
       "      <td>NaN</td>\n",
       "      <td>NaN</td>\n",
       "      <td>NaN</td>\n",
       "      <td>NaN</td>\n",
       "      <td>NaN</td>\n",
       "      <td>NaN</td>\n",
       "      <td>...</td>\n",
       "      <td>0.0</td>\n",
       "      <td>NaN</td>\n",
       "      <td>NaN</td>\n",
       "      <td>0.50</td>\n",
       "      <td>0.5</td>\n",
       "      <td>7.45</td>\n",
       "      <td>7.40</td>\n",
       "      <td>1</td>\n",
       "      <td>1</td>\n",
       "      <td>0</td>\n",
       "    </tr>\n",
       "    <tr>\n",
       "      <th>8</th>\n",
       "      <td>1286</td>\n",
       "      <td>NaN</td>\n",
       "      <td>50.0</td>\n",
       "      <td>0.20</td>\n",
       "      <td>0.23</td>\n",
       "      <td>NaN</td>\n",
       "      <td>0.091</td>\n",
       "      <td>NaN</td>\n",
       "      <td>6.5</td>\n",
       "      <td>NaN</td>\n",
       "      <td>...</td>\n",
       "      <td>NaN</td>\n",
       "      <td>NaN</td>\n",
       "      <td>NaN</td>\n",
       "      <td>0.72</td>\n",
       "      <td>0.5</td>\n",
       "      <td>7.50</td>\n",
       "      <td>7.70</td>\n",
       "      <td>1</td>\n",
       "      <td>0</td>\n",
       "      <td>1</td>\n",
       "    </tr>\n",
       "    <tr>\n",
       "      <th>9</th>\n",
       "      <td>736</td>\n",
       "      <td>NaN</td>\n",
       "      <td>NaN</td>\n",
       "      <td>0.05</td>\n",
       "      <td>NaN</td>\n",
       "      <td>NaN</td>\n",
       "      <td>NaN</td>\n",
       "      <td>NaN</td>\n",
       "      <td>NaN</td>\n",
       "      <td>NaN</td>\n",
       "      <td>...</td>\n",
       "      <td>1.0</td>\n",
       "      <td>NaN</td>\n",
       "      <td>NaN</td>\n",
       "      <td>0.50</td>\n",
       "      <td>0.5</td>\n",
       "      <td>7.53</td>\n",
       "      <td>7.26</td>\n",
       "      <td>0</td>\n",
       "      <td>0</td>\n",
       "      <td>0</td>\n",
       "    </tr>\n",
       "  </tbody>\n",
       "</table>\n",
       "<p>10 rows × 58 columns</p>\n",
       "</div>"
      ],
      "text/plain": [
       "   station_id  Aluminium_2019  Aluminium_2020  Ammonium_2019  Ammonium_2020  \\\n",
       "0         487             NaN             NaN           0.05           0.05   \n",
       "1        1555             NaN             NaN           0.05           0.05   \n",
       "2         205             NaN            10.0           0.05           0.24   \n",
       "3        1228             NaN             NaN           0.09           0.05   \n",
       "4         470             NaN             NaN           0.06           0.05   \n",
       "5         614             NaN             NaN           0.12           0.13   \n",
       "6        1420             NaN             NaN            NaN            NaN   \n",
       "7         188             NaN             NaN           0.23            NaN   \n",
       "8        1286             NaN            50.0           0.20           0.23   \n",
       "9         736             NaN             NaN           0.05            NaN   \n",
       "\n",
       "   Boron_2019  Boron_2020  Chloride_2019  Chloride_2020  \\\n",
       "0         NaN         NaN            NaN            NaN   \n",
       "1         NaN         NaN            NaN            NaN   \n",
       "2         NaN       0.100            NaN            NaN   \n",
       "3       0.641       0.932            NaN            NaN   \n",
       "4         NaN         NaN            NaN            NaN   \n",
       "5         NaN         NaN            NaN            NaN   \n",
       "6         NaN         NaN            NaN            NaN   \n",
       "7         NaN         NaN            NaN            NaN   \n",
       "8         NaN       0.091            NaN            6.5   \n",
       "9         NaN         NaN            NaN            NaN   \n",
       "\n",
       "   Coli-like-bacteria-Colilert_2019  ...  Taste-ball-units_2020  \\\n",
       "0                               NaN  ...                    0.0   \n",
       "1                               NaN  ...                    NaN   \n",
       "2                               NaN  ...                    NaN   \n",
       "3                               NaN  ...                    1.0   \n",
       "4                               NaN  ...                    0.0   \n",
       "5                               NaN  ...                    1.0   \n",
       "6                               0.0  ...                    NaN   \n",
       "7                               NaN  ...                    0.0   \n",
       "8                               NaN  ...                    NaN   \n",
       "9                               NaN  ...                    1.0   \n",
       "\n",
       "   Taste-dilution-degree_2019  Taste-dilution-degree_2020  Turbidity-NTU_2019  \\\n",
       "0                         NaN                         NaN                1.60   \n",
       "1                         1.0                         1.0                1.00   \n",
       "2                         1.0                         1.0                1.00   \n",
       "3                         NaN                         NaN                0.50   \n",
       "4                         NaN                         NaN                0.20   \n",
       "5                         NaN                         NaN                0.50   \n",
       "6                         1.0                         2.0                1.00   \n",
       "7                         NaN                         NaN                0.50   \n",
       "8                         NaN                         NaN                0.72   \n",
       "9                         NaN                         NaN                0.50   \n",
       "\n",
       "   Turbidity-NTU_2020  pH _2019  pH _2020  compliance_2019  compliance_2020  \\\n",
       "0                 0.2      7.80      7.60                0                0   \n",
       "1                 1.0      7.30      7.10                0                0   \n",
       "2                 1.0      7.80      7.70                0                0   \n",
       "3                 0.5      7.44      7.58                0                0   \n",
       "4                44.0      7.70      8.00                0                1   \n",
       "5                 0.5      8.64      8.45                0                0   \n",
       "6                 1.0      7.50      8.00                0                0   \n",
       "7                 0.5      7.45      7.40                1                1   \n",
       "8                 0.5      7.50      7.70                1                0   \n",
       "9                 0.5      7.53      7.26                0                0   \n",
       "\n",
       "   compliance_2021  \n",
       "0                0  \n",
       "1                0  \n",
       "2                0  \n",
       "3                0  \n",
       "4                0  \n",
       "5                1  \n",
       "6                0  \n",
       "7                0  \n",
       "8                1  \n",
       "9                0  \n",
       "\n",
       "[10 rows x 58 columns]"
      ]
     },
     "execution_count": 2,
     "metadata": {},
     "output_type": "execute_result"
    }
   ],
   "source": [
    "data = pd.read_csv('train.csv')\n",
    "data.head(10)"
   ]
  },
  {
   "cell_type": "code",
   "execution_count": 3,
   "metadata": {},
   "outputs": [
    {
     "data": {
      "text/plain": [
       "station_id                            0\n",
       "Aluminium_2019                      337\n",
       "Aluminium_2020                      346\n",
       "Ammonium_2019                       133\n",
       "Ammonium_2020                       150\n",
       "Boron_2019                          324\n",
       "Boron_2020                          332\n",
       "Chloride_2019                       329\n",
       "Chloride_2020                       326\n",
       "Coli-like-bacteria-Colilert_2019    315\n",
       "Coli-like-bacteria-Colilert_2020    315\n",
       "Coli-like-bacteria_2019             118\n",
       "Coli-like-bacteria_2020             120\n",
       "Colony-count-at-22-C_2019            70\n",
       "Colony-count-at-22-C_2020            53\n",
       "Color-Pt-Co-unit_2019               381\n",
       "Color-Pt-Co-unit_2020               377\n",
       "Color-Pt/Co-scale_2019               68\n",
       "Color-Pt/Co-scale_2020               61\n",
       "Electrical-conductivity_2019         10\n",
       "Electrical-conductivity_2020          4\n",
       "Enterococci_2019                    256\n",
       "Enterococci_2020                    267\n",
       "Escherichia-coli-Colilert_2019      316\n",
       "Escherichia-coli-Colilert_2020      316\n",
       "Escherichia-coli_2019               118\n",
       "Escherichia-coli_2020               124\n",
       "Fluoride_2019                       304\n",
       "Fluoride_2020                       298\n",
       "Iron_2019                            68\n",
       "Iron_2020                            56\n",
       "Manganese_2019                      187\n",
       "Manganese_2020                      178\n",
       "Nitrate_2019                        332\n",
       "Nitrate_2020                        326\n",
       "Nitrite_2019                        324\n",
       "Nitrite_2020                        315\n",
       "Odour-dilution-level_2019           107\n",
       "Odour-dilution-level_2020           103\n",
       "Oxidability_2019                    298\n",
       "Oxidability_2020                    300\n",
       "Smell-ball-units_2019               345\n",
       "Smell-ball-units_2020               334\n",
       "Sodium_2019                         296\n",
       "Sodium_2020                         309\n",
       "Sulphate_2019                       286\n",
       "Sulphate_2020                       308\n",
       "Taste-ball-units_2019               346\n",
       "Taste-ball-units_2020               337\n",
       "Taste-dilution-degree_2019          135\n",
       "Taste-dilution-degree_2020          134\n",
       "Turbidity-NTU_2019                   21\n",
       "Turbidity-NTU_2020                   14\n",
       "pH _2019                              8\n",
       "pH _2020                              2\n",
       "compliance_2019                       0\n",
       "compliance_2020                       0\n",
       "compliance_2021                       0\n",
       "dtype: int64"
      ]
     },
     "execution_count": 3,
     "metadata": {},
     "output_type": "execute_result"
    }
   ],
   "source": [
    "data.drop_duplicates()\n",
    "data.isna().sum()"
   ]
  },
  {
   "cell_type": "code",
   "execution_count": 4,
   "metadata": {},
   "outputs": [
    {
     "data": {
      "text/plain": [
       "(440, 58)"
      ]
     },
     "execution_count": 4,
     "metadata": {},
     "output_type": "execute_result"
    }
   ],
   "source": [
    "data.shape"
   ]
  },
  {
   "cell_type": "code",
   "execution_count": 5,
   "metadata": {},
   "outputs": [
    {
     "name": "stdout",
     "output_type": "stream",
     "text": [
      "<class 'pandas.core.frame.DataFrame'>\n",
      "RangeIndex: 440 entries, 0 to 439\n",
      "Data columns (total 58 columns):\n",
      " #   Column                            Non-Null Count  Dtype  \n",
      "---  ------                            --------------  -----  \n",
      " 0   station_id                        440 non-null    int64  \n",
      " 1   Aluminium_2019                    103 non-null    float64\n",
      " 2   Aluminium_2020                    94 non-null     float64\n",
      " 3   Ammonium_2019                     307 non-null    float64\n",
      " 4   Ammonium_2020                     290 non-null    float64\n",
      " 5   Boron_2019                        116 non-null    float64\n",
      " 6   Boron_2020                        108 non-null    float64\n",
      " 7   Chloride_2019                     111 non-null    float64\n",
      " 8   Chloride_2020                     114 non-null    float64\n",
      " 9   Coli-like-bacteria-Colilert_2019  125 non-null    float64\n",
      " 10  Coli-like-bacteria-Colilert_2020  125 non-null    float64\n",
      " 11  Coli-like-bacteria_2019           322 non-null    float64\n",
      " 12  Coli-like-bacteria_2020           320 non-null    float64\n",
      " 13  Colony-count-at-22-C_2019         370 non-null    float64\n",
      " 14  Colony-count-at-22-C_2020         387 non-null    float64\n",
      " 15  Color-Pt-Co-unit_2019             59 non-null     float64\n",
      " 16  Color-Pt-Co-unit_2020             63 non-null     float64\n",
      " 17  Color-Pt/Co-scale_2019            372 non-null    float64\n",
      " 18  Color-Pt/Co-scale_2020            379 non-null    float64\n",
      " 19  Electrical-conductivity_2019      430 non-null    float64\n",
      " 20  Electrical-conductivity_2020      436 non-null    float64\n",
      " 21  Enterococci_2019                  184 non-null    float64\n",
      " 22  Enterococci_2020                  173 non-null    float64\n",
      " 23  Escherichia-coli-Colilert_2019    124 non-null    float64\n",
      " 24  Escherichia-coli-Colilert_2020    124 non-null    float64\n",
      " 25  Escherichia-coli_2019             322 non-null    float64\n",
      " 26  Escherichia-coli_2020             316 non-null    float64\n",
      " 27  Fluoride_2019                     136 non-null    float64\n",
      " 28  Fluoride_2020                     142 non-null    float64\n",
      " 29  Iron_2019                         372 non-null    float64\n",
      " 30  Iron_2020                         384 non-null    float64\n",
      " 31  Manganese_2019                    253 non-null    float64\n",
      " 32  Manganese_2020                    262 non-null    float64\n",
      " 33  Nitrate_2019                      108 non-null    float64\n",
      " 34  Nitrate_2020                      114 non-null    float64\n",
      " 35  Nitrite_2019                      116 non-null    float64\n",
      " 36  Nitrite_2020                      125 non-null    float64\n",
      " 37  Odour-dilution-level_2019         333 non-null    float64\n",
      " 38  Odour-dilution-level_2020         337 non-null    float64\n",
      " 39  Oxidability_2019                  142 non-null    float64\n",
      " 40  Oxidability_2020                  140 non-null    float64\n",
      " 41  Smell-ball-units_2019             95 non-null     float64\n",
      " 42  Smell-ball-units_2020             106 non-null    float64\n",
      " 43  Sodium_2019                       144 non-null    float64\n",
      " 44  Sodium_2020                       131 non-null    float64\n",
      " 45  Sulphate_2019                     154 non-null    float64\n",
      " 46  Sulphate_2020                     132 non-null    float64\n",
      " 47  Taste-ball-units_2019             94 non-null     float64\n",
      " 48  Taste-ball-units_2020             103 non-null    float64\n",
      " 49  Taste-dilution-degree_2019        305 non-null    float64\n",
      " 50  Taste-dilution-degree_2020        306 non-null    float64\n",
      " 51  Turbidity-NTU_2019                419 non-null    float64\n",
      " 52  Turbidity-NTU_2020                426 non-null    float64\n",
      " 53  pH _2019                          432 non-null    float64\n",
      " 54  pH _2020                          438 non-null    float64\n",
      " 55  compliance_2019                   440 non-null    int64  \n",
      " 56  compliance_2020                   440 non-null    int64  \n",
      " 57  compliance_2021                   440 non-null    int64  \n",
      "dtypes: float64(54), int64(4)\n",
      "memory usage: 199.5 KB\n"
     ]
    }
   ],
   "source": [
    "data.info()"
   ]
  },
  {
   "cell_type": "markdown",
   "metadata": {},
   "source": [
    "## 1.1 Checking for inbalance data"
   ]
  },
  {
   "cell_type": "code",
   "execution_count": 6,
   "metadata": {},
   "outputs": [
    {
     "data": {
      "text/plain": [
       "<AxesSubplot:>"
      ]
     },
     "execution_count": 6,
     "metadata": {},
     "output_type": "execute_result"
    },
    {
     "data": {
      "image/png": "[encoded data removed]",
      "text/plain": [
       "<Figure size 640x480 with 1 Axes>"
      ]
     },
     "metadata": {},
     "output_type": "display_data"
    }
   ],
   "source": [
    "data['compliance_2019'].value_counts().plot(kind='bar')"
   ]
  },
  {
   "cell_type": "code",
   "execution_count": 7,
   "metadata": {},
   "outputs": [
    {
     "data": {
      "text/plain": [
       "<AxesSubplot:>"
      ]
     },
     "execution_count": 7,
     "metadata": {},
     "output_type": "execute_result"
    },
    {
     "data": {
      "image/png": "[encoded data removed]",
      "text/plain": [
       "<Figure size 640x480 with 1 Axes>"
      ]
     },
     "metadata": {},
     "output_type": "display_data"
    }
   ],
   "source": [
    "data['compliance_2020'].value_counts().plot(kind='bar')"
   ]
  },
  {
   "cell_type": "code",
   "execution_count": 8,
   "metadata": {},
   "outputs": [
    {
     "data": {
      "text/plain": [
       "<AxesSubplot:>"
      ]
     },
     "execution_count": 8,
     "metadata": {},
     "output_type": "execute_result"
    },
    {
     "data": {
      "image/png": "[encoded data removed]",
      "text/plain": [
       "<Figure size 640x480 with 1 Axes>"
      ]
     },
     "metadata": {},
     "output_type": "display_data"
    }
   ],
   "source": [
    "data['compliance_2021'].value_counts().plot(kind='bar')"
   ]
  },
  {
   "cell_type": "markdown",
   "metadata": {},
   "source": [
    "# 2 Inbalance data training and testing"
   ]
  },
  {
   "cell_type": "markdown",
   "metadata": {},
   "source": [
    "### 2.1 Prepare data for fiting"
   ]
  },
  {
   "cell_type": "code",
   "execution_count": 9,
   "metadata": {},
   "outputs": [
    {
     "data": {
      "text/plain": [
       "SimpleImputer(strategy='median')"
      ]
     },
     "execution_count": 9,
     "metadata": {},
     "output_type": "execute_result"
    }
   ],
   "source": [
    "X = data.drop(['compliance_2021'],axis=1)\n",
    "y = data['compliance_2021']\n",
    "\n",
    "from sklearn.impute import SimpleImputer\n",
    "imputer = SimpleImputer(strategy = 'median')\n",
    "imputer.fit(X)"
   ]
  },
  {
   "cell_type": "code",
   "execution_count": 10,
   "metadata": {},
   "outputs": [],
   "source": [
    "from sklearn.model_selection import train_test_split\n",
    "X_train,X_test,y_train,y_test = train_test_split(X,y,test_size=0.2,random_state = 7)"
   ]
  },
  {
   "cell_type": "code",
   "execution_count": 11,
   "metadata": {},
   "outputs": [],
   "source": [
    "from sklearn.impute import SimpleImputer\n",
    "\n",
    "X_train = pd.DataFrame(imputer.transform(X_train))\n",
    "X_test = pd.DataFrame(imputer.transform(X_test))"
   ]
  },
  {
   "cell_type": "code",
   "execution_count": 12,
   "metadata": {},
   "outputs": [],
   "source": [
    "# from sklearn.preprocessing import StandardScaler\n",
    "# std = StandardScaler()\n",
    "# std.fit(X_imp_train)\n",
    "\n",
    "# X_train_std = std.transform(X_imp_train)\n",
    "# X_test_std = std.transform(X_imp_test)"
   ]
  },
  {
   "cell_type": "markdown",
   "metadata": {},
   "source": [
    "### 2.2 LogisticRegression"
   ]
  },
  {
   "cell_type": "code",
   "execution_count": 13,
   "metadata": {},
   "outputs": [
    {
     "name": "stdout",
     "output_type": "stream",
     "text": [
      "Confusion matrix:\n",
      "[[75  1]\n",
      " [11  1]]\n"
     ]
    },
    {
     "name": "stderr",
     "output_type": "stream",
     "text": [
      "/Users/lunf/opt/anaconda3/lib/python3.8/site-packages/sklearn/linear_model/_logistic.py:814: ConvergenceWarning: lbfgs failed to converge (status=1):\n",
      "STOP: TOTAL NO. of ITERATIONS REACHED LIMIT.\n",
      "\n",
      "Increase the number of iterations (max_iter) or scale the data as shown in:\n",
      "    https://scikit-learn.org/stable/modules/preprocessing.html\n",
      "Please also refer to the documentation for alternative solver options:\n",
      "    https://scikit-learn.org/stable/modules/linear_model.html#logistic-regression\n",
      "  n_iter_i = _check_optimize_result(\n"
     ]
    },
    {
     "data": {
      "text/plain": [
       "0.8636363636363636"
      ]
     },
     "execution_count": 13,
     "metadata": {},
     "output_type": "execute_result"
    }
   ],
   "source": [
    "from sklearn.linear_model import LogisticRegression\n",
    "from sklearn.metrics import accuracy_score\n",
    "from sklearn.metrics import confusion_matrix\n",
    "\n",
    "lr = LogisticRegression()\n",
    "lr.fit(X_train,y_train)\n",
    "y_pred =lr.predict(X_test)\n",
    "\n",
    "confusion_matrix_result = confusion_matrix(y_test.values, y_pred)\n",
    "print(\"Confusion matrix:\\n%s\" % confusion_matrix_result)\n",
    "accuracy_score(y_pred, y_test)\n",
    "\n"
   ]
  },
  {
   "cell_type": "markdown",
   "metadata": {},
   "source": [
    "### 2.3 RandomForestClassifier"
   ]
  },
  {
   "cell_type": "code",
   "execution_count": 15,
   "metadata": {},
   "outputs": [
    {
     "name": "stdout",
     "output_type": "stream",
     "text": [
      "Confusion matrix:\n",
      "[[74  2]\n",
      " [12  0]]\n"
     ]
    },
    {
     "data": {
      "text/plain": [
       "0.8409090909090909"
      ]
     },
     "execution_count": 15,
     "metadata": {},
     "output_type": "execute_result"
    }
   ],
   "source": [
    "from sklearn.ensemble import RandomForestClassifier\n",
    "rfc = RandomForestClassifier(random_state=8)\n",
    "rfc.fit(X_train,y_train)\n",
    "y_pred = rfc.predict(X_test)\n",
    "\n",
    "confusion_matrix_result = confusion_matrix(y_test.values, y_pred)\n",
    "print(\"Confusion matrix:\\n%s\" % confusion_matrix_result)\n",
    "\n",
    "accuracy_score(rfc.predict(X_test), y_test)"
   ]
  },
  {
   "cell_type": "markdown",
   "metadata": {},
   "source": [
    "### 2.4 KNeighborsClassifier"
   ]
  },
  {
   "cell_type": "code",
   "execution_count": 17,
   "metadata": {},
   "outputs": [
    {
     "name": "stdout",
     "output_type": "stream",
     "text": [
      "Confusion matrix:\n",
      "[[75  1]\n",
      " [12  0]]\n"
     ]
    },
    {
     "data": {
      "text/plain": [
       "0.8522727272727273"
      ]
     },
     "execution_count": 17,
     "metadata": {},
     "output_type": "execute_result"
    }
   ],
   "source": [
    "from sklearn.neighbors import KNeighborsClassifier\n",
    "knn = KNeighborsClassifier().fit(X_train,y_train)\n",
    "\n",
    "y_pred = knn.predict(X_test)\n",
    "confusion_matrix_result = confusion_matrix(y_test.values, y_pred)\n",
    "print(\"Confusion matrix:\\n%s\" % confusion_matrix_result)\n",
    "accuracy_score(y_test, y_pred)"
   ]
  },
  {
   "cell_type": "markdown",
   "metadata": {},
   "source": [
    "### 2.5 AdaBoostClassifier"
   ]
  },
  {
   "cell_type": "code",
   "execution_count": 19,
   "metadata": {},
   "outputs": [
    {
     "name": "stdout",
     "output_type": "stream",
     "text": [
      "Confusion matrix:\n",
      "[[67  9]\n",
      " [12  0]]\n"
     ]
    },
    {
     "data": {
      "text/plain": [
       "0.7613636363636364"
      ]
     },
     "execution_count": 19,
     "metadata": {},
     "output_type": "execute_result"
    }
   ],
   "source": [
    "from sklearn.ensemble import AdaBoostClassifier\n",
    "\n",
    "Adaboost_model=AdaBoostClassifier()\n",
    "Adaboost_model.fit(X_train,y_train)\n",
    "y_pred = Adaboost_model.predict(X_test)\n",
    "\n",
    "confusion_matrix_result = confusion_matrix(y_test.values, y_pred)\n",
    "print(\"Confusion matrix:\\n%s\" % confusion_matrix_result)\n",
    "accuracy_score(y_test, y_pred)"
   ]
  },
  {
   "cell_type": "markdown",
   "metadata": {},
   "source": [
    "# 3.Undersampling"
   ]
  },
  {
   "cell_type": "markdown",
   "metadata": {},
   "source": [
    "undersampling by using compliance_2021"
   ]
  },
  {
   "cell_type": "code",
   "execution_count": 20,
   "metadata": {},
   "outputs": [
    {
     "name": "stdout",
     "output_type": "stream",
     "text": [
      "0    374\n",
      "Name: compliance_2021, dtype: int64\n",
      "0    374\n",
      "1    374\n",
      "Name: compliance_2021, dtype: int64\n"
     ]
    }
   ],
   "source": [
    "from sklearn.utils import resample\n",
    "print(data[data['compliance_2021']==0]['compliance_2021'].value_counts())\n",
    "df_majority = data[data['compliance_2021']==1]\n",
    "df_minority = data[data['compliance_2021']==0]\n",
    "\n",
    "df_majority_downsampled = resample(df_majority, \n",
    "                                 replace=True,    # sample without replacement\n",
    "                                 n_samples=374,     # to match minority class\n",
    "                                 random_state=123) # reproducible results\n",
    "\n",
    "\n",
    "# Combine minority class with downsampled majority class\n",
    "df_downsampled = pd.concat([df_majority_downsampled, df_minority])\n",
    "df_downsampled.sort_index(inplace=True)\n",
    "\n",
    "y = df_downsampled['compliance_2021']\n",
    "X = df_downsampled.drop('compliance_2021', axis=1)"
   ]
  },
  {
   "cell_type": "markdown",
   "metadata": {},
   "source": [
    "## 3.1 Fit scaled data"
   ]
  },
  {
   "cell_type": "code",
   "execution_count": 21,
   "metadata": {},
   "outputs": [],
   "source": [
    "train_ratio = 0.8\n",
    "validation_ratio = 0.1\n",
    "test_ratio = 0.1\n",
    "\n",
    "X_train, X_test, y_train, y_test = train_test_split(X, y, test_size=1 - train_ratio, random_state=9)\n",
    "\n",
    "X_val, X_test, y_val, y_test = train_test_split(X_test, y_test,\n",
    "                                                test_size=test_ratio/(test_ratio + validation_ratio), random_state=4) \n",
    "\n",
    "\n",
    "# X_train,X_test,y_train,y_test = train_test_split(X,y,test_size=0.2,random_state = 7)"
   ]
  },
  {
   "cell_type": "code",
   "execution_count": 22,
   "metadata": {},
   "outputs": [],
   "source": [
    "# replace nan values with median values by using simpleinputer \n",
    "# num_imp = SimpleImputer(strategy = 'median')\n",
    "# num_imp.fit(X)\n",
    "\n",
    "# X_imp_train = pd.DataFrame(num_imp.transform(X_train))\n",
    "# X_imp_test = pd.DataFrame(num_imp.transform(X_test))\n",
    "# X_imp_val = pd.DataFrame(num_imp.transform(X_val))\n",
    "\n",
    "# std = StandardScaler()\n",
    "# std.fit(X_imp_train)\n",
    "\n",
    "# X_train_std = std.transform(X_imp_train)\n",
    "# X_test_std = std.transform(X_imp_test)\n",
    "# X_val_std = std.transform(X_imp_val)\n",
    "X_train = pd.DataFrame(imputer.transform(X_train))\n",
    "X_test = pd.DataFrame(imputer.transform(X_test))\n",
    "X_val= pd.DataFrame(imputer.transform(X_val))"
   ]
  },
  {
   "cell_type": "markdown",
   "metadata": {},
   "source": [
    "## 3.2 LogisticRegression"
   ]
  },
  {
   "cell_type": "code",
   "execution_count": 23,
   "metadata": {},
   "outputs": [
    {
     "name": "stdout",
     "output_type": "stream",
     "text": [
      "Confusion matrix:\n",
      "[[24  9]\n",
      " [22 20]]\n",
      "Accuracy of model on the test data 0.5866666666666667\n",
      "Accuracy of model on the validation data 0.7066666666666667\n"
     ]
    },
    {
     "name": "stderr",
     "output_type": "stream",
     "text": [
      "/Users/lunf/opt/anaconda3/lib/python3.8/site-packages/sklearn/linear_model/_logistic.py:814: ConvergenceWarning: lbfgs failed to converge (status=1):\n",
      "STOP: TOTAL NO. of ITERATIONS REACHED LIMIT.\n",
      "\n",
      "Increase the number of iterations (max_iter) or scale the data as shown in:\n",
      "    https://scikit-learn.org/stable/modules/preprocessing.html\n",
      "Please also refer to the documentation for alternative solver options:\n",
      "    https://scikit-learn.org/stable/modules/linear_model.html#logistic-regression\n",
      "  n_iter_i = _check_optimize_result(\n"
     ]
    }
   ],
   "source": [
    "lr = LogisticRegression()\n",
    "lr.fit(X_train,y_train)\n",
    "y_pred =lr.predict(X_test)\n",
    "\n",
    "confusion_matrix_result = confusion_matrix(y_test.values, y_pred)\n",
    "print(\"Confusion matrix:\\n%s\" % confusion_matrix_result)\n",
    "\n",
    "print(f'Accuracy of model on the test data {accuracy_score(lr.predict(X_test), y_test)}')\n",
    "print(f'Accuracy of model on the validation data {accuracy_score(lr.predict(X_val), y_val)}')"
   ]
  },
  {
   "cell_type": "markdown",
   "metadata": {},
   "source": [
    "## 3.3 RandomForestClassifier"
   ]
  },
  {
   "cell_type": "code",
   "execution_count": 24,
   "metadata": {},
   "outputs": [
    {
     "name": "stdout",
     "output_type": "stream",
     "text": [
      "Confusion matrix:\n",
      "[[33  0]\n",
      " [ 0 42]]\n",
      "Accuracy of model on the test data 1.0\n",
      "Accuracy of model on the validation data 0.96\n"
     ]
    }
   ],
   "source": [
    "# rfc = RandomForestClassifier(random_state=78, max_features = 1)\n",
    "rfc = RandomForestClassifier(random_state=8)\n",
    "rfc.fit(X_train,y_train)\n",
    "y_pred = rfc.predict(X_test)\n",
    "\n",
    "confusion_matrix_result = confusion_matrix(y_test.values, y_pred)\n",
    "print(\"Confusion matrix:\\n%s\" % confusion_matrix_result)\n",
    "accuracy_score(rfc.predict(X_test), y_test)\n",
    "\n",
    "print(f'Accuracy of model on the test data {accuracy_score(rfc.predict(X_test), y_test)}')\n",
    "print(f'Accuracy of model on the validation data {accuracy_score(rfc.predict(X_val), y_val)}')"
   ]
  },
  {
   "cell_type": "markdown",
   "metadata": {},
   "source": [
    "## 3.4 KNeighborsClassifier"
   ]
  },
  {
   "cell_type": "code",
   "execution_count": 26,
   "metadata": {},
   "outputs": [
    {
     "name": "stdout",
     "output_type": "stream",
     "text": [
      "Confusion matrix:\n",
      "[[24  9]\n",
      " [ 4 38]]\n",
      "Accuracy of model on the test data 0.8266666666666667\n",
      "Accuracy of model on the validation data 0.7866666666666666\n"
     ]
    }
   ],
   "source": [
    "from sklearn.neighbors import KNeighborsClassifier\n",
    "knn = KNeighborsClassifier().fit(X_train,y_train)\n",
    "\n",
    "y_pred = knn.predict(X_test)\n",
    "confusion_matrix_result = confusion_matrix(y_test.values, y_pred)\n",
    "print(\"Confusion matrix:\\n%s\" % confusion_matrix_result)\n",
    "print(f'Accuracy of model on the test data {accuracy_score(knn.predict(X_test), y_test)}')\n",
    "print(f'Accuracy of model on the validation data {accuracy_score(knn.predict(X_val), y_val)}')"
   ]
  },
  {
   "cell_type": "markdown",
   "metadata": {},
   "source": [
    "# Results\n",
    "At this moment we can see that the best is random forest which has unreal results on test and validation set. Do not realy belive that this model even get 70% in kaggle if we send it(ok it got 83, 88). Also KNN has realy good results."
   ]
  },
  {
   "cell_type": "markdown",
   "metadata": {},
   "source": [
    "# Save results to csv"
   ]
  },
  {
   "cell_type": "code",
   "execution_count": 42,
   "metadata": {},
   "outputs": [
    {
     "data": {
      "text/html": [
       "<div>\n",
       "<style scoped>\n",
       "    .dataframe tbody tr th:only-of-type {\n",
       "        vertical-align: middle;\n",
       "    }\n",
       "\n",
       "    .dataframe tbody tr th {\n",
       "        vertical-align: top;\n",
       "    }\n",
       "\n",
       "    .dataframe thead th {\n",
       "        text-align: right;\n",
       "    }\n",
       "</style>\n",
       "<table border=\"1\" class=\"dataframe\">\n",
       "  <thead>\n",
       "    <tr style=\"text-align: right;\">\n",
       "      <th></th>\n",
       "      <th>station_id</th>\n",
       "      <th>Aluminium_2019</th>\n",
       "      <th>Aluminium_2020</th>\n",
       "      <th>Ammonium_2019</th>\n",
       "      <th>Ammonium_2020</th>\n",
       "      <th>Boron_2019</th>\n",
       "      <th>Boron_2020</th>\n",
       "      <th>Chloride_2019</th>\n",
       "      <th>Chloride_2020</th>\n",
       "      <th>Coli-like-bacteria-Colilert_2019</th>\n",
       "      <th>...</th>\n",
       "      <th>Taste-ball-units_2019</th>\n",
       "      <th>Taste-ball-units_2020</th>\n",
       "      <th>Taste-dilution-degree_2019</th>\n",
       "      <th>Taste-dilution-degree_2020</th>\n",
       "      <th>Turbidity-NTU_2019</th>\n",
       "      <th>Turbidity-NTU_2020</th>\n",
       "      <th>pH _2019</th>\n",
       "      <th>pH _2020</th>\n",
       "      <th>compliance_2019</th>\n",
       "      <th>compliance_2020</th>\n",
       "    </tr>\n",
       "  </thead>\n",
       "  <tbody>\n",
       "    <tr>\n",
       "      <th>0</th>\n",
       "      <td>163</td>\n",
       "      <td>5.0</td>\n",
       "      <td>5.0</td>\n",
       "      <td>0.08</td>\n",
       "      <td>0.08</td>\n",
       "      <td>0.071</td>\n",
       "      <td>0.062</td>\n",
       "      <td>130.0</td>\n",
       "      <td>102.0</td>\n",
       "      <td>NaN</td>\n",
       "      <td>...</td>\n",
       "      <td>NaN</td>\n",
       "      <td>NaN</td>\n",
       "      <td>1.0</td>\n",
       "      <td>1.0</td>\n",
       "      <td>1.18</td>\n",
       "      <td>1.90</td>\n",
       "      <td>8.17</td>\n",
       "      <td>8.12</td>\n",
       "      <td>0</td>\n",
       "      <td>0</td>\n",
       "    </tr>\n",
       "    <tr>\n",
       "      <th>1</th>\n",
       "      <td>167</td>\n",
       "      <td>NaN</td>\n",
       "      <td>NaN</td>\n",
       "      <td>0.08</td>\n",
       "      <td>0.08</td>\n",
       "      <td>NaN</td>\n",
       "      <td>NaN</td>\n",
       "      <td>NaN</td>\n",
       "      <td>NaN</td>\n",
       "      <td>NaN</td>\n",
       "      <td>...</td>\n",
       "      <td>NaN</td>\n",
       "      <td>NaN</td>\n",
       "      <td>1.0</td>\n",
       "      <td>3.0</td>\n",
       "      <td>3.90</td>\n",
       "      <td>1.54</td>\n",
       "      <td>7.83</td>\n",
       "      <td>7.81</td>\n",
       "      <td>1</td>\n",
       "      <td>0</td>\n",
       "    </tr>\n",
       "    <tr>\n",
       "      <th>2</th>\n",
       "      <td>171</td>\n",
       "      <td>NaN</td>\n",
       "      <td>NaN</td>\n",
       "      <td>NaN</td>\n",
       "      <td>NaN</td>\n",
       "      <td>NaN</td>\n",
       "      <td>NaN</td>\n",
       "      <td>112.0</td>\n",
       "      <td>90.0</td>\n",
       "      <td>NaN</td>\n",
       "      <td>...</td>\n",
       "      <td>NaN</td>\n",
       "      <td>NaN</td>\n",
       "      <td>2.0</td>\n",
       "      <td>1.0</td>\n",
       "      <td>1.40</td>\n",
       "      <td>1.50</td>\n",
       "      <td>7.50</td>\n",
       "      <td>7.60</td>\n",
       "      <td>0</td>\n",
       "      <td>1</td>\n",
       "    </tr>\n",
       "    <tr>\n",
       "      <th>3</th>\n",
       "      <td>174</td>\n",
       "      <td>5.0</td>\n",
       "      <td>5.0</td>\n",
       "      <td>0.05</td>\n",
       "      <td>0.09</td>\n",
       "      <td>0.072</td>\n",
       "      <td>0.075</td>\n",
       "      <td>248.0</td>\n",
       "      <td>243.0</td>\n",
       "      <td>0.0</td>\n",
       "      <td>...</td>\n",
       "      <td>NaN</td>\n",
       "      <td>NaN</td>\n",
       "      <td>2.0</td>\n",
       "      <td>8.0</td>\n",
       "      <td>1.00</td>\n",
       "      <td>1.00</td>\n",
       "      <td>7.70</td>\n",
       "      <td>7.80</td>\n",
       "      <td>0</td>\n",
       "      <td>0</td>\n",
       "    </tr>\n",
       "    <tr>\n",
       "      <th>4</th>\n",
       "      <td>178</td>\n",
       "      <td>NaN</td>\n",
       "      <td>NaN</td>\n",
       "      <td>0.05</td>\n",
       "      <td>NaN</td>\n",
       "      <td>NaN</td>\n",
       "      <td>NaN</td>\n",
       "      <td>NaN</td>\n",
       "      <td>NaN</td>\n",
       "      <td>NaN</td>\n",
       "      <td>...</td>\n",
       "      <td>NaN</td>\n",
       "      <td>NaN</td>\n",
       "      <td>1.0</td>\n",
       "      <td>1.0</td>\n",
       "      <td>1.00</td>\n",
       "      <td>1.00</td>\n",
       "      <td>7.50</td>\n",
       "      <td>7.40</td>\n",
       "      <td>0</td>\n",
       "      <td>0</td>\n",
       "    </tr>\n",
       "  </tbody>\n",
       "</table>\n",
       "<p>5 rows × 57 columns</p>\n",
       "</div>"
      ],
      "text/plain": [
       "   station_id  Aluminium_2019  Aluminium_2020  Ammonium_2019  Ammonium_2020  \\\n",
       "0         163             5.0             5.0           0.08           0.08   \n",
       "1         167             NaN             NaN           0.08           0.08   \n",
       "2         171             NaN             NaN            NaN            NaN   \n",
       "3         174             5.0             5.0           0.05           0.09   \n",
       "4         178             NaN             NaN           0.05            NaN   \n",
       "\n",
       "   Boron_2019  Boron_2020  Chloride_2019  Chloride_2020  \\\n",
       "0       0.071       0.062          130.0          102.0   \n",
       "1         NaN         NaN            NaN            NaN   \n",
       "2         NaN         NaN          112.0           90.0   \n",
       "3       0.072       0.075          248.0          243.0   \n",
       "4         NaN         NaN            NaN            NaN   \n",
       "\n",
       "   Coli-like-bacteria-Colilert_2019  ...  Taste-ball-units_2019  \\\n",
       "0                               NaN  ...                    NaN   \n",
       "1                               NaN  ...                    NaN   \n",
       "2                               NaN  ...                    NaN   \n",
       "3                               0.0  ...                    NaN   \n",
       "4                               NaN  ...                    NaN   \n",
       "\n",
       "   Taste-ball-units_2020  Taste-dilution-degree_2019  \\\n",
       "0                    NaN                         1.0   \n",
       "1                    NaN                         1.0   \n",
       "2                    NaN                         2.0   \n",
       "3                    NaN                         2.0   \n",
       "4                    NaN                         1.0   \n",
       "\n",
       "   Taste-dilution-degree_2020  Turbidity-NTU_2019  Turbidity-NTU_2020  \\\n",
       "0                         1.0                1.18                1.90   \n",
       "1                         3.0                3.90                1.54   \n",
       "2                         1.0                1.40                1.50   \n",
       "3                         8.0                1.00                1.00   \n",
       "4                         1.0                1.00                1.00   \n",
       "\n",
       "   pH _2019  pH _2020  compliance_2019  compliance_2020  \n",
       "0      8.17      8.12                0                0  \n",
       "1      7.83      7.81                1                0  \n",
       "2      7.50      7.60                0                1  \n",
       "3      7.70      7.80                0                0  \n",
       "4      7.50      7.40                0                0  \n",
       "\n",
       "[5 rows x 57 columns]"
      ]
     },
     "execution_count": 42,
     "metadata": {},
     "output_type": "execute_result"
    }
   ],
   "source": [
    "test_data = pd.read_csv('test.csv')\n",
    "test_data.head()"
   ]
  },
  {
   "cell_type": "code",
   "execution_count": 43,
   "metadata": {},
   "outputs": [],
   "source": [
    "# test_data_imp = SimpleImputer(strategy = 'median')\n",
    "# X = data.drop(['compliance_2021'],axis=1)\n",
    "# y = data['compliance_2021']\n",
    "\n",
    "# from sklearn.impute import SimpleImputer\n",
    "# imputer = SimpleImputer(strategy = 'median')\n",
    "# imputer.fit(X)\n",
    "\n",
    "\n",
    "test_data_imp.fit(test_data)\n",
    "\n",
    "test_data_mod = pd.DataFrame(test_data_imp.transform(test_data))\n",
    "\n",
    "# std = StandardScaler()\n",
    "# std.fit(X_imp_test_data)"
   ]
  },
  {
   "cell_type": "code",
   "execution_count": 44,
   "metadata": {},
   "outputs": [
    {
     "name": "stdout",
     "output_type": "stream",
     "text": [
      "[0 0 0 0 0 0 0 0 0 0 0 0 0 0 0 0 0 0 0 0 0 0 1 0 0 0 0 0 0 0 0 0 0 0 0 0 0\n",
      " 0 0 0 0 0 0 0 0 0 0 0 0 0 0 0 0 0 0 0 0 0 0 0 0 0 0 0 0 0 0 0 0 0 0 0 0 0\n",
      " 0 0 0 0 0 0 0 0 0 0 0 0 0 0 0 0 0 0 0 0 0 0 0 0 0 0 0 0 0 0 0 0 0 0 0 0 0\n",
      " 0 0 0 0 0 0 0 0 0 0 0 0 0 0 0 0 0 0 0 0 0 0 0 0 0 0 0 0 0 0 0 0 0 0 0 0 0\n",
      " 0 0 0 0 0 0 0 0 0 0 0 0 0 0 0 0 0 0 0 0 0 0 0 0 0 1 0 1 0 0 0 0 0 0 0 0 0\n",
      " 0 1 0 0]\n"
     ]
    }
   ],
   "source": [
    "y_pred = rfc.predict(test_data_mod)\n",
    "print(y_pred)"
   ]
  },
  {
   "cell_type": "code",
   "execution_count": 45,
   "metadata": {},
   "outputs": [],
   "source": [
    "df = pd.DataFrame()\n",
    "df['station_id'] = test_data.station_id\n",
    "df['compliance_2021'] = y_pred"
   ]
  },
  {
   "cell_type": "code",
   "execution_count": 46,
   "metadata": {},
   "outputs": [
    {
     "data": {
      "text/plain": [
       "0    185\n",
       "1      4\n",
       "Name: compliance_2021, dtype: int64"
      ]
     },
     "execution_count": 46,
     "metadata": {},
     "output_type": "execute_result"
    }
   ],
   "source": [
    "df.compliance_2021.value_counts()"
   ]
  },
  {
   "cell_type": "code",
   "execution_count": 47,
   "metadata": {},
   "outputs": [
    {
     "data": {
      "text/html": [
       "<div>\n",
       "<style scoped>\n",
       "    .dataframe tbody tr th:only-of-type {\n",
       "        vertical-align: middle;\n",
       "    }\n",
       "\n",
       "    .dataframe tbody tr th {\n",
       "        vertical-align: top;\n",
       "    }\n",
       "\n",
       "    .dataframe thead th {\n",
       "        text-align: right;\n",
       "    }\n",
       "</style>\n",
       "<table border=\"1\" class=\"dataframe\">\n",
       "  <thead>\n",
       "    <tr style=\"text-align: right;\">\n",
       "      <th></th>\n",
       "      <th>station_id</th>\n",
       "      <th>compliance_2021</th>\n",
       "    </tr>\n",
       "  </thead>\n",
       "  <tbody>\n",
       "    <tr>\n",
       "      <th>0</th>\n",
       "      <td>163</td>\n",
       "      <td>0</td>\n",
       "    </tr>\n",
       "    <tr>\n",
       "      <th>1</th>\n",
       "      <td>167</td>\n",
       "      <td>0</td>\n",
       "    </tr>\n",
       "    <tr>\n",
       "      <th>2</th>\n",
       "      <td>171</td>\n",
       "      <td>0</td>\n",
       "    </tr>\n",
       "    <tr>\n",
       "      <th>3</th>\n",
       "      <td>174</td>\n",
       "      <td>0</td>\n",
       "    </tr>\n",
       "    <tr>\n",
       "      <th>4</th>\n",
       "      <td>178</td>\n",
       "      <td>0</td>\n",
       "    </tr>\n",
       "    <tr>\n",
       "      <th>...</th>\n",
       "      <td>...</td>\n",
       "      <td>...</td>\n",
       "    </tr>\n",
       "    <tr>\n",
       "      <th>184</th>\n",
       "      <td>1941</td>\n",
       "      <td>0</td>\n",
       "    </tr>\n",
       "    <tr>\n",
       "      <th>185</th>\n",
       "      <td>2087</td>\n",
       "      <td>0</td>\n",
       "    </tr>\n",
       "    <tr>\n",
       "      <th>186</th>\n",
       "      <td>2206</td>\n",
       "      <td>1</td>\n",
       "    </tr>\n",
       "    <tr>\n",
       "      <th>187</th>\n",
       "      <td>2303</td>\n",
       "      <td>0</td>\n",
       "    </tr>\n",
       "    <tr>\n",
       "      <th>188</th>\n",
       "      <td>2307</td>\n",
       "      <td>0</td>\n",
       "    </tr>\n",
       "  </tbody>\n",
       "</table>\n",
       "<p>189 rows × 2 columns</p>\n",
       "</div>"
      ],
      "text/plain": [
       "     station_id  compliance_2021\n",
       "0           163                0\n",
       "1           167                0\n",
       "2           171                0\n",
       "3           174                0\n",
       "4           178                0\n",
       "..          ...              ...\n",
       "184        1941                0\n",
       "185        2087                0\n",
       "186        2206                1\n",
       "187        2303                0\n",
       "188        2307                0\n",
       "\n",
       "[189 rows x 2 columns]"
      ]
     },
     "execution_count": 47,
     "metadata": {},
     "output_type": "execute_result"
    }
   ],
   "source": [
    "df"
   ]
  },
  {
   "cell_type": "code",
   "execution_count": 48,
   "metadata": {},
   "outputs": [],
   "source": [
    "df.to_csv('water.csv', index=False)"
   ]
  },
  {
   "cell_type": "code",
   "execution_count": 49,
   "metadata": {},
   "outputs": [
    {
     "ename": "NameError",
     "evalue": "name 'X_test_std' is not defined",
     "output_type": "error",
     "traceback": [
      "\u001b[0;31m---------------------------------------------------------------------------\u001b[0m",
      "\u001b[0;31mNameError\u001b[0m                                 Traceback (most recent call last)",
      "\u001b[0;32m/var/folders/sf/xw1hk6vs08b3789g6c7zn__00000gn/T/ipykernel_34755/1482567784.py\u001b[0m in \u001b[0;36m<module>\u001b[0;34m\u001b[0m\n\u001b[1;32m      1\u001b[0m \u001b[0;32mfrom\u001b[0m \u001b[0msklearn\u001b[0m\u001b[0;34m.\u001b[0m\u001b[0mmetrics\u001b[0m \u001b[0;32mimport\u001b[0m \u001b[0mroc_auc_score\u001b[0m\u001b[0;34m\u001b[0m\u001b[0;34m\u001b[0m\u001b[0m\n\u001b[0;32m----> 2\u001b[0;31m \u001b[0mroc_auc_score\u001b[0m\u001b[0;34m(\u001b[0m\u001b[0my_test\u001b[0m\u001b[0;34m,\u001b[0m \u001b[0mrfc\u001b[0m\u001b[0;34m.\u001b[0m\u001b[0mpredict_proba\u001b[0m\u001b[0;34m(\u001b[0m\u001b[0mX_test_std\u001b[0m\u001b[0;34m)\u001b[0m\u001b[0;34m[\u001b[0m\u001b[0;34m:\u001b[0m\u001b[0;34m,\u001b[0m \u001b[0;36m1\u001b[0m\u001b[0;34m]\u001b[0m\u001b[0;34m)\u001b[0m\u001b[0;34m\u001b[0m\u001b[0;34m\u001b[0m\u001b[0m\n\u001b[0m",
      "\u001b[0;31mNameError\u001b[0m: name 'X_test_std' is not defined"
     ]
    }
   ],
   "source": [
    "from sklearn.metrics import roc_auc_score\n",
    "roc_auc_score(y_test, rfc.predict_proba(X_test_std)[:, 1])"
   ]
  },
  {
   "cell_type": "code",
   "execution_count": null,
   "metadata": {},
   "outputs": [],
   "source": []
  }
 ],
 "metadata": {
  "colab": {
   "provenance": []
  },
  "kernelspec": {
   "display_name": "Python 3 (ipykernel)",
   "language": "python",
   "name": "python3"
  },
  "language_info": {
   "codemirror_mode": {
    "name": "ipython",
    "version": 3
   },
   "file_extension": ".py",
   "mimetype": "text/x-python",
   "name": "python",
   "nbconvert_exporter": "python",
   "pygments_lexer": "ipython3",
   "version": "3.8.13"
  }
 },
 "nbformat": 4,
 "nbformat_minor": 1
}
